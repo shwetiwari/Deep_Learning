{
 "cells": [
  {
   "cell_type": "code",
   "execution_count": 1,
   "metadata": {
    "id": "NfONS1Q2CluL"
   },
   "outputs": [],
   "source": [
    "import numpy as np\n",
    "from urllib import request\n",
    "import gzip\n",
    "import pickle\n",
    "import os\n",
    "import torch\n",
    "from torch.nn.utils.rnn import pad_sequence\n",
    "from torch import nn\n",
    "from tqdm import tqdm, trange\n",
    "from torch.utils.data import TensorDataset, DataLoader\n",
    "import torch.nn.functional as F\n",
    "import torch.optim as optim\n",
    "from matplotlib import pyplot as plt\n",
    "\n",
    "import os\n",
    "os.environ['KMP_DUPLICATE_LIB_OK']='True'\n",
    "\n",
    "# # moves your model to train on your gpu if available else it uses your cpu\n",
    "device = torch.device('cuda' if torch.cuda.is_available() else 'cpu')"
   ]
  },
  {
   "cell_type": "code",
   "execution_count": 2,
   "metadata": {
    "colab": {
     "base_uri": "https://localhost:8080/"
    },
    "id": "o3iy86pKCluL",
    "outputId": "c02c02c3-ec76-401e-ce69-f06a514793b2"
   },
   "outputs": [
    {
     "name": "stdout",
     "output_type": "stream",
     "text": [
      "Requirement already satisfied: wget in /Users/gysingh/opt/anaconda3/lib/python3.8/site-packages (3.2)\r\n"
     ]
    }
   ],
   "source": [
    "!pip install wget\n",
    "\n",
    "import wget, os, gzip, pickle, random, re, sys\n",
    "\n",
    "IMDB_URL = 'http://dlvu.github.io/data/imdb.{}.pkl.gz'\n",
    "IMDB_FILE = 'imdb.{}.pkl.gz'\n",
    "\n",
    "PAD, START, END, UNK = '.pad', '.start', '.end', '.unk'\n",
    "\n",
    "def load_imdb(final=False, val=5000, seed=0, voc=None, char=False):\n",
    "\n",
    "    cst = 'char' if char else 'word'\n",
    "\n",
    "    imdb_url = IMDB_URL.format(cst)\n",
    "    imdb_file = IMDB_FILE.format(cst)\n",
    "\n",
    "    if not os.path.exists(imdb_file):\n",
    "        wget.download(imdb_url)\n",
    "\n",
    "    with gzip.open(imdb_file) as file:\n",
    "        sequences, labels, i2w, w2i = pickle.load(file)\n",
    "\n",
    "    if voc is not None and voc < len(i2w):\n",
    "        nw_sequences = {}\n",
    "\n",
    "        i2w = i2w[:voc]\n",
    "        w2i = {w: i for i, w in enumerate(i2w)}\n",
    "\n",
    "        mx, unk = voc, w2i['.unk']\n",
    "        for key, seqs in sequences.items():\n",
    "            nw_sequences[key] = []\n",
    "            for seq in seqs:\n",
    "                seq = [s if s < mx else unk for s in seq]\n",
    "                nw_sequences[key].append(seq)\n",
    "\n",
    "        sequences = nw_sequences\n",
    "\n",
    "    if final:\n",
    "        return (sequences['train'], labels['train']), (sequences['test'], labels['test']), (i2w, w2i), 2\n",
    "\n",
    "    # Make a validation split\n",
    "    random.seed(seed)\n",
    "\n",
    "    x_train, y_train = [], []\n",
    "    x_val, y_val = [], []\n",
    "\n",
    "    val_ind = set( random.sample(range(len(sequences['train'])), k=val) )\n",
    "    for i, (s, l) in enumerate(zip(sequences['train'], labels['train'])):\n",
    "        if i in val_ind:\n",
    "            x_val.append(s)\n",
    "            y_val.append(l)\n",
    "        else:\n",
    "            x_train.append(s)\n",
    "            y_train.append(l)\n",
    "\n",
    "    return (x_train, y_train), \\\n",
    "           (x_val, y_val), \\\n",
    "           (i2w, w2i), 2"
   ]
  },
  {
   "cell_type": "code",
   "execution_count": 3,
   "metadata": {
    "id": "M6m1V5viCluL"
   },
   "outputs": [],
   "source": [
    "(x_train, y_train), (x_val, y_val), (i2w, w2i), numcls = load_imdb(final=False)"
   ]
  },
  {
   "cell_type": "code",
   "execution_count": 4,
   "metadata": {
    "id": "obQ73I24CluM"
   },
   "outputs": [],
   "source": [
    "def padding_(sentences, seq_len):\n",
    "    features = np.zeros((len(sentences), seq_len),dtype=int)\n",
    "    for ii, review in enumerate(sentences):\n",
    "        if len(review) != 0:\n",
    "            features[ii, -len(review):] = np.array(review)[:seq_len]\n",
    "    return features"
   ]
  },
  {
   "cell_type": "code",
   "execution_count": 5,
   "metadata": {
    "id": "gvwoiwD8CluM"
   },
   "outputs": [],
   "source": [
    "x_train_pad = padding_(x_train,250)\n",
    "x_val_pad = padding_(x_val,250)\n",
    "y_train = np.asarray(y_train)\n",
    "y_val = np.array(y_val)"
   ]
  },
  {
   "cell_type": "code",
   "execution_count": 6,
   "metadata": {
    "id": "5BsI5DV_CluN"
   },
   "outputs": [],
   "source": [
    "# create Tensor datasets\n",
    "train_data = TensorDataset(torch.from_numpy(x_train_pad), torch.from_numpy(y_train))\n",
    "valid_data = TensorDataset(torch.from_numpy(x_val_pad), torch.from_numpy(y_val))\n",
    "\n",
    "# dataloaders\n",
    "batch_size = 128\n",
    "\n",
    "# make sure to SHUFFLE your data\n",
    "train_loader = DataLoader(train_data, shuffle=True, batch_size=batch_size)\n",
    "valid_loader = DataLoader(valid_data, shuffle=True, batch_size=batch_size)"
   ]
  },
  {
   "cell_type": "code",
   "execution_count": 7,
   "metadata": {
    "colab": {
     "base_uri": "https://localhost:8080/"
    },
    "id": "BTgeoEy5CluN",
    "outputId": "7e09f4e9-67f3-4048-f517-2a81ed852d47"
   },
   "outputs": [
    {
     "name": "stdout",
     "output_type": "stream",
     "text": [
      "Sample input size:  torch.Size([128, 250])\n",
      "Sample input:  torch.Size([128])\n"
     ]
    }
   ],
   "source": [
    "dataiter = iter(train_loader)\n",
    "sample_x, sample_y = dataiter.next()\n",
    "\n",
    "print('Sample input size: ', sample_x.size()) # batch_size, seq_length\n",
    "#print('Sample input: \\n', sample_x)\n",
    "print('Sample input: ', sample_y.size())"
   ]
  },
  {
   "cell_type": "code",
   "execution_count": 8,
   "metadata": {},
   "outputs": [],
   "source": [
    "class ELMAN(nn.Module):\n",
    "    def __init__ ( self , insize = 300 , outsize = 300 , hsize = 300):\n",
    "        super (). __init__ ()\n",
    "\n",
    "        self.lin1 = nn.Linear(insize + hsize, hsize) \n",
    "        self.lin2 = nn.Linear(hsize, outsize)\n",
    "        \n",
    "    def forward ( self , x, hidden= None ):\n",
    "        b, t, e = x.size()\n",
    "\n",
    "        if hidden is None :\n",
    "            hidden = torch.zeros(b, e, dtype =torch.float)\n",
    "            \n",
    "        outs = []\n",
    "        for i in range (t):\n",
    "            inp = torch.cat((x[:,i,:], hidden), dim = 1 )\n",
    "            hidden = torch.tanh(self.lin1(inp))\n",
    "            out = self.lin2(hidden)\n",
    "            outs.append(out[:, None , :])\n",
    "        \n",
    "        return torch.cat(outs, dim = 1 ), hidden"
   ]
  },
  {
   "cell_type": "code",
   "execution_count": 9,
   "metadata": {
    "id": "WpNeyADZCluN"
   },
   "outputs": [],
   "source": [
    "class SEQ_ELMAN(nn.Module):\n",
    "    def __init__(self, input_dim, embedding_dim, hidden_dim, output_dim):\n",
    "        \n",
    "        super().__init__()\n",
    "        \n",
    "        self.embedding = nn.Embedding(input_dim, embedding_dim)\n",
    "        \n",
    "        self.elman = ELMAN(300, 300, 300)\n",
    "    \n",
    "        self.linear2 = nn.Linear(hidden_dim, output_dim)\n",
    "        \n",
    "    def forward(self, text):\n",
    "\n",
    "        embedded = self.embedding(text)\n",
    "        \n",
    "        output, hidden = self.elman(embedded)\n",
    "\n",
    "        output, _ = torch.max(output, dim = 1)\n",
    "\n",
    "        output = self.linear2(output)\n",
    "        \n",
    "        return output"
   ]
  },
  {
   "cell_type": "code",
   "execution_count": 10,
   "metadata": {
    "colab": {
     "base_uri": "https://localhost:8080/"
    },
    "id": "VLCH-eE-CluN",
    "outputId": "563642ad-a056-43ef-807f-cb519ea41606"
   },
   "outputs": [
    {
     "name": "stdout",
     "output_type": "stream",
     "text": [
      "SEQ_ELMAN(\n",
      "  (embedding): Embedding(99430, 300)\n",
      "  (elman): ELMAN(\n",
      "    (lin1): Linear(in_features=600, out_features=300, bias=True)\n",
      "    (lin2): Linear(in_features=300, out_features=300, bias=True)\n",
      "  )\n",
      "  (linear2): Linear(in_features=300, out_features=2, bias=True)\n",
      ")\n"
     ]
    }
   ],
   "source": [
    "INPUT_DIM = len(w2i)\n",
    "EMBEDDING_DIM = 300\n",
    "HIDDEN_DIM = 300\n",
    "OUTPUT_DIM = 2\n",
    "\n",
    "model = SEQ_ELMAN(INPUT_DIM, EMBEDDING_DIM, HIDDEN_DIM, OUTPUT_DIM)\n",
    "model.to(device)\n",
    "print(model)"
   ]
  },
  {
   "cell_type": "code",
   "execution_count": 11,
   "metadata": {},
   "outputs": [],
   "source": [
    "NUM_EPOCHS = 5\n",
    "opt = torch.optim.Adam(model.parameters(), lr =0.01)"
   ]
  },
  {
   "cell_type": "markdown",
   "metadata": {},
   "source": [
    "### Model Training"
   ]
  },
  {
   "cell_type": "code",
   "execution_count": 12,
   "metadata": {
    "colab": {
     "base_uri": "https://localhost:8080/"
    },
    "id": "XqkveAYzCluN",
    "outputId": "2eb16c32-3f84-41d4-f019-9cdb78ef0187"
   },
   "outputs": [
    {
     "name": "stderr",
     "output_type": "stream",
     "text": [
      " 20%|██        | 1/5 [28:01<1:52:07, 1681.92s/it]\n"
     ]
    },
    {
     "ename": "KeyboardInterrupt",
     "evalue": "",
     "output_type": "error",
     "traceback": [
      "\u001b[0;31m---------------------------------------------------------------------------\u001b[0m",
      "\u001b[0;31mKeyboardInterrupt\u001b[0m                         Traceback (most recent call last)",
      "\u001b[0;32m<ipython-input-12-c9c19401982c>\u001b[0m in \u001b[0;36m<module>\u001b[0;34m\u001b[0m\n\u001b[1;32m     24\u001b[0m         \u001b[0;31m#trainloss_batch.append(loss.item())\u001b[0m\u001b[0;34m\u001b[0m\u001b[0;34m\u001b[0m\u001b[0;34m\u001b[0m\u001b[0m\n\u001b[1;32m     25\u001b[0m \u001b[0;34m\u001b[0m\u001b[0m\n\u001b[0;32m---> 26\u001b[0;31m         \u001b[0mloss\u001b[0m\u001b[0;34m.\u001b[0m\u001b[0mbackward\u001b[0m\u001b[0;34m(\u001b[0m\u001b[0;34m)\u001b[0m\u001b[0;34m\u001b[0m\u001b[0;34m\u001b[0m\u001b[0m\n\u001b[0m\u001b[1;32m     27\u001b[0m         \u001b[0mopt\u001b[0m\u001b[0;34m.\u001b[0m\u001b[0mstep\u001b[0m\u001b[0;34m(\u001b[0m\u001b[0;34m)\u001b[0m\u001b[0;34m\u001b[0m\u001b[0;34m\u001b[0m\u001b[0m\n\u001b[1;32m     28\u001b[0m \u001b[0;34m\u001b[0m\u001b[0m\n",
      "\u001b[0;32m~/opt/anaconda3/lib/python3.8/site-packages/torch/tensor.py\u001b[0m in \u001b[0;36mbackward\u001b[0;34m(self, gradient, retain_graph, create_graph)\u001b[0m\n\u001b[1;32m    219\u001b[0m                 \u001b[0mretain_graph\u001b[0m\u001b[0;34m=\u001b[0m\u001b[0mretain_graph\u001b[0m\u001b[0;34m,\u001b[0m\u001b[0;34m\u001b[0m\u001b[0;34m\u001b[0m\u001b[0m\n\u001b[1;32m    220\u001b[0m                 create_graph=create_graph)\n\u001b[0;32m--> 221\u001b[0;31m         \u001b[0mtorch\u001b[0m\u001b[0;34m.\u001b[0m\u001b[0mautograd\u001b[0m\u001b[0;34m.\u001b[0m\u001b[0mbackward\u001b[0m\u001b[0;34m(\u001b[0m\u001b[0mself\u001b[0m\u001b[0;34m,\u001b[0m \u001b[0mgradient\u001b[0m\u001b[0;34m,\u001b[0m \u001b[0mretain_graph\u001b[0m\u001b[0;34m,\u001b[0m \u001b[0mcreate_graph\u001b[0m\u001b[0;34m)\u001b[0m\u001b[0;34m\u001b[0m\u001b[0;34m\u001b[0m\u001b[0m\n\u001b[0m\u001b[1;32m    222\u001b[0m \u001b[0;34m\u001b[0m\u001b[0m\n\u001b[1;32m    223\u001b[0m     \u001b[0;32mdef\u001b[0m \u001b[0mregister_hook\u001b[0m\u001b[0;34m(\u001b[0m\u001b[0mself\u001b[0m\u001b[0;34m,\u001b[0m \u001b[0mhook\u001b[0m\u001b[0;34m)\u001b[0m\u001b[0;34m:\u001b[0m\u001b[0;34m\u001b[0m\u001b[0;34m\u001b[0m\u001b[0m\n",
      "\u001b[0;32m~/opt/anaconda3/lib/python3.8/site-packages/torch/autograd/__init__.py\u001b[0m in \u001b[0;36mbackward\u001b[0;34m(tensors, grad_tensors, retain_graph, create_graph, grad_variables)\u001b[0m\n\u001b[1;32m    128\u001b[0m         \u001b[0mretain_graph\u001b[0m \u001b[0;34m=\u001b[0m \u001b[0mcreate_graph\u001b[0m\u001b[0;34m\u001b[0m\u001b[0;34m\u001b[0m\u001b[0m\n\u001b[1;32m    129\u001b[0m \u001b[0;34m\u001b[0m\u001b[0m\n\u001b[0;32m--> 130\u001b[0;31m     Variable._execution_engine.run_backward(\n\u001b[0m\u001b[1;32m    131\u001b[0m         \u001b[0mtensors\u001b[0m\u001b[0;34m,\u001b[0m \u001b[0mgrad_tensors_\u001b[0m\u001b[0;34m,\u001b[0m \u001b[0mretain_graph\u001b[0m\u001b[0;34m,\u001b[0m \u001b[0mcreate_graph\u001b[0m\u001b[0;34m,\u001b[0m\u001b[0;34m\u001b[0m\u001b[0;34m\u001b[0m\u001b[0m\n\u001b[1;32m    132\u001b[0m         allow_unreachable=True)  # allow_unreachable flag\n",
      "\u001b[0;31mKeyboardInterrupt\u001b[0m: "
     ]
    }
   ],
   "source": [
    "NUM_EPOCHS = 5\n",
    "opt = torch.optim.Adam(model.parameters(), lr =0.01)\n",
    "\n",
    "trainloss_epoch = []\n",
    "valloss_epoch = []\n",
    "trainacc_epoch = []\n",
    "valacc_epoch = []\n",
    "\n",
    "#trainloss_batch = []\n",
    "\n",
    "for epoch in trange(NUM_EPOCHS):\n",
    "    model.train()\n",
    "    \n",
    "    for sample_x, sample_y in iter(train_loader):\n",
    "    \n",
    "        sample_x = sample_x.to(device)\n",
    "        sample_y = sample_y.to(device)\n",
    "\n",
    "        opt.zero_grad()\n",
    "\n",
    "        outputs = model(sample_x)\n",
    "        loss = F.cross_entropy(outputs, sample_y)\n",
    "        \n",
    "        #trainloss_batch.append(loss.item())\n",
    "        \n",
    "        loss.backward()\n",
    "        opt.step()\n",
    "    \n",
    "    with torch.no_grad():\n",
    "\n",
    "        model.eval()  \n",
    "        #trainloss = 0.0\n",
    "        traincorrect = 0\n",
    "        num = 0\n",
    "\n",
    "        for sample_x, sample_y in iter(train_loader):\n",
    "            \n",
    "            sample_x = sample_x.to(device)\n",
    "            sample_y = sample_y.to(device)\n",
    "          \n",
    "            outputs = model(sample_x)\n",
    "            #loss = F.cross_entropy(outputs, sample_y, reduction='none').to(device)\n",
    "            \n",
    "            #num += loss.size(0)\n",
    "            #trainloss += loss.sum().item()\n",
    "            num = num + 1\n",
    "            traincorrect += (outputs.argmax(dim=1) == sample_y).sum().item()\n",
    "        \n",
    "        #trainloss_epoch.append(trainloss/num)\n",
    "        trainacc_epoch.append(traincorrect/num)\n",
    "        \n",
    "        #valloss = 0.0\n",
    "        valcorrect = 0\n",
    "        num = 0\n",
    "        for sample_x, sample_y in iter(valid_loader):\n",
    "       \n",
    "            sample_x = sample_x.to(device)\n",
    "            sample_y = sample_y.to(device)\n",
    "\n",
    "            outputs = model(sample_x)\n",
    "            #loss = F.cross_entropy(outputs, sample_y, reduction='none')\n",
    "            \n",
    "            #num += loss.size(0)\n",
    "            #valloss += loss.sum().item()\n",
    "            num = num + 1\n",
    "            valcorrect += (outputs.argmax(dim=1) == sample_y).sum().item()\n",
    "        \n",
    "        #valloss_epoch.append(valloss/num)\n",
    "        valacc_epoch.append(valcorrect/num)\n",
    "        \n",
    "        \n",
    "pd.DataFrame(trainacc_epoch).to_csv('elman_trainacc_epoch.csv')\n",
    "pd.DataFrame(valacc_epoch).to_csv('elman_valacc_epoch.csv')"
   ]
  },
  {
   "cell_type": "code",
   "execution_count": 221,
   "metadata": {},
   "outputs": [
    {
     "data": {
      "image/png": "[encoded data removed]",
      "text/plain": [
       "<Figure size 864x324 with 2 Axes>"
      ]
     },
     "metadata": {
      "needs_background": "light"
     },
     "output_type": "display_data"
    }
   ],
   "source": [
    "epoch_count = range(1, NUM_EPOCHS + 1)\n",
    "plt.figure(figsize=(12,4.5))\n",
    "\n",
    "plt.subplot(1, 2, 1)\n",
    "#plt.plot(epoch_count, trainloss_epoch, '-o', color = 'blue', markevery = None, label='Train loss')\n",
    "plt.plot(epoch_count, valloss_epoch,'-o', color = 'orange', markevery = None, label='Validation loss')\n",
    "plt.legend()\n",
    "plt.title(\"Train vs Validation Loss Curve(lr=0.001)\")  \n",
    "plt.ylabel(\"Cross Entropy Loss\")\n",
    "plt.xlabel(\"Epoch\")\n",
    "plt.grid()\n",
    "\n",
    "\n",
    "plt.subplot(1, 2, 2)\n",
    "#plt.plot(epoch_count, trainacc_epoch, '-o', color = 'blue', markevery = None, label='Train Accuracy')\n",
    "plt.plot(epoch_count, valacc_epoch, '-o', color = 'orange', markevery = None, label='Validation Accuracy')\n",
    "plt.legend()\n",
    "plt.title(\"Validation Accuracy(lr=0.001)\")  \n",
    "plt.ylabel(\"Accuracy\")\n",
    "plt.xlabel(\"Epoch\")\n",
    "plt.grid()\n",
    "\n",
    "plt.tight_layout(pad = 2.5)"
   ]
  },
  {
   "cell_type": "markdown",
   "metadata": {},
   "source": [
    "### Learning Rate Comparision"
   ]
  },
  {
   "cell_type": "code",
   "execution_count": 214,
   "metadata": {},
   "outputs": [
    {
     "name": "stderr",
     "output_type": "stream",
     "text": [
      "100%|██████████| 4/4 [1:26:25<00:00, 1296.36s/it]\n"
     ]
    }
   ],
   "source": [
    "INPUT_DIM = len(w2i)\n",
    "EMBEDDING_DIM = 300\n",
    "HIDDEN_DIM = 300\n",
    "OUTPUT_DIM = 2\n",
    "curves = {}\n",
    "\n",
    "for lr in tqdm([0.01, 0.001, 0.0001, 0.00000001]):\n",
    "\n",
    "    model = SEQ_ELMAN(INPUT_DIM, EMBEDDING_DIM, HIDDEN_DIM, OUTPUT_DIM)\n",
    "    model.to(device)\n",
    "\n",
    "    optimizer = torch.optim.Adam(model.parameters(), lr=lr)\n",
    "\n",
    "    curve = []\n",
    "\n",
    "    for epoch in range(2):\n",
    "        for sample_x, sample_y in iter(valid_loader): \n",
    "            sample_x = sample_x.to(device)\n",
    "            sample_y = sample_y.to(device)\n",
    "\n",
    "            # Training pass\n",
    "            optimizer.zero_grad()\n",
    "\n",
    "            # Forward pass\n",
    "            output = model(sample_x)\n",
    "           \n",
    "            loss = F.cross_entropy(output, sample_y)\n",
    "\n",
    "            curve.append(loss.item())\n",
    "\n",
    "            #Backward pass\n",
    "            loss.backward()\n",
    "            optimizer.step()\n",
    "            \n",
    "            \n",
    "        curves[lr] = curve"
   ]
  },
  {
   "cell_type": "code",
   "execution_count": 230,
   "metadata": {},
   "outputs": [
    {
     "data": {
      "text/plain": [
       "Text(0.5, 1.0, 'Elman Peformance (batch_size=64, validation set, Adam optimizer)')"
      ]
     },
     "execution_count": 230,
     "metadata": {},
     "output_type": "execute_result"
    },
    {
     "data": {
      "image/png": "[encoded data removed]",
      "text/plain": [
       "<Figure size 504x216 with 1 Axes>"
      ]
     },
     "metadata": {
      "needs_background": "light"
     },
     "output_type": "display_data"
    }
   ],
   "source": [
    "plt.figure(figsize=(7, 3))\n",
    "\n",
    "for (lr, curve), color in zip(curves.items(), ['blue', 'green', 'orange', 'purple']):\n",
    "    plt.plot(curve, color=color, alpha=0.1)\n",
    "\n",
    "    k = 15\n",
    "    smoothed, idx = [], []\n",
    "\n",
    "    for to in range(k, len(curve)):\n",
    "        fr = to - k\n",
    "        smoothed.append(sum(curve[fr:to])/k)\n",
    "        idx.append(to)\n",
    "\n",
    "    plt.plot(idx, smoothed, color=color, label=f'learning rate {lr}')\n",
    "\n",
    "plt.xlim(0, 160)\n",
    "plt.ylim(0,2)\n",
    "plt.legend()\n",
    "\n",
    "plt.xlabel('batches')\n",
    "plt.ylabel('loss per batch')\n",
    "plt.title(\"Elman Peformance (batch_size=64, validation set, Adam optimizer)\")"
   ]
  },
  {
   "cell_type": "code",
   "execution_count": null,
   "metadata": {},
   "outputs": [],
   "source": []
  }
 ],
 "metadata": {
  "colab": {
   "name": "Assign4_v2.ipynb",
   "provenance": []
  },
  "kernelspec": {
   "display_name": "Python 3",
   "language": "python",
   "name": "python3"
  },
  "language_info": {
   "codemirror_mode": {
    "name": "ipython",
    "version": 3
   },
   "file_extension": ".py",
   "mimetype": "text/x-python",
   "name": "python",
   "nbconvert_exporter": "python",
   "pygments_lexer": "ipython3",
   "version": "3.8.3"
  }
 },
 "nbformat": 4,
 "nbformat_minor": 1
}
