{
 "cells": [
  {
   "cell_type": "markdown",
   "metadata": {},
   "source": [
    "# Deep Learning - Assignment 1\n",
    "\n",
    "- Feed synthetic dataset to the neural network created\n",
    "- create loss curve"
   ]
  },
  {
   "cell_type": "code",
   "execution_count": 379,
   "metadata": {},
   "outputs": [],
   "source": [
    "%matplotlib inline\n",
    "import math\n",
    "from math import log\n",
    "import numpy as np\n",
    "import random\n",
    "from data import load_synth\n",
    "from random import random\n",
    "from itertools import starmap\n",
    "from operator import mul\n",
    "import matplotlib.pyplot as plt\n",
    "import matplotlib as mpl\n",
    "#from tqdm import tqdm, trange\n",
    "import sys"
   ]
  },
  {
   "cell_type": "markdown",
   "metadata": {},
   "source": [
    "1 - Loading Synthetic Dataset"
   ]
  },
  {
   "cell_type": "code",
   "execution_count": 380,
   "metadata": {},
   "outputs": [],
   "source": [
    "(xtrain, ytrain), (xtest, ytest), num_classes = load_synth()"
   ]
  },
  {
   "cell_type": "code",
   "execution_count": 381,
   "metadata": {},
   "outputs": [],
   "source": [
    "xtrain = (xtrain/255).astype('float32')\n",
    "xtest = (xtest/255).astype('float32')"
   ]
  },
  {
   "cell_type": "code",
   "execution_count": 382,
   "metadata": {},
   "outputs": [],
   "source": [
    "#Train Set\n",
    "onehot_y = np.zeros((ytrain.size, ytrain.max()+1))\n",
    "onehot_y[np.arange(ytrain.size),ytrain] = 1\n",
    "# Test Set\n",
    "onehot_y_test = np.zeros((ytest.size, ytest.max()+1))\n",
    "onehot_y_test[np.arange(ytest.size),ytest] = 1"
   ]
  },
  {
   "cell_type": "code",
   "execution_count": 383,
   "metadata": {},
   "outputs": [],
   "source": [
    "xtrain_list = xtrain.tolist()\n",
    "ytrain_list = onehot_y.tolist()\n",
    "\n",
    "##Test Set\n",
    "xtest_list = xtest.tolist()\n",
    "ytest_list = onehot_y_test.tolist()"
   ]
  },
  {
   "cell_type": "code",
   "execution_count": 384,
   "metadata": {},
   "outputs": [],
   "source": [
    "def sigmoid(x):\n",
    "    return 1 / (1 + math.exp(-x))"
   ]
  },
  {
   "cell_type": "code",
   "execution_count": 385,
   "metadata": {},
   "outputs": [],
   "source": [
    "def softmax(X):\n",
    "    numerator = np.exp(X)\n",
    "    denominator = np.sum(np.exp(X))\n",
    "    return numerator/denominator"
   ]
  },
  {
   "cell_type": "markdown",
   "metadata": {},
   "source": [
    "2 - Initialize the model's parameters"
   ]
  },
  {
   "cell_type": "code",
   "execution_count": 386,
   "metadata": {},
   "outputs": [],
   "source": [
    "def initialize_weights():\n",
    "\n",
    "    W = ([[ 2.8684894690, -7.6767074810, 6.6785715480], [-1.6898393820, -2.0112816210, -7.7109503230]])\n",
    "    b = ([0., 0., 0.])\n",
    "    V = ([[-7.2348454540, 1.1665972450], [1.9808355760, -7.8209344560], [5.7780672930, -8.5619845400]])\n",
    "    c = ([0., 0.])\n",
    "    \n",
    "    parameters = {\"W\": W,\n",
    "                  \"b\": b,\n",
    "                  \"V\": V,\n",
    "                  \"c\": c\n",
    "                  }\n",
    "    \n",
    "    \n",
    "    return parameters"
   ]
  },
  {
   "cell_type": "code",
   "execution_count": 387,
   "metadata": {},
   "outputs": [
    {
     "name": "stdout",
     "output_type": "stream",
     "text": [
      "W = [[2.868489469, -7.676707481, 6.678571548], [-1.689839382, -2.011281621, -7.710950323]]\n",
      "b = [0.0, 0.0, 0.0]\n",
      "V = [[-7.234845454, 1.166597245], [1.980835576, -7.820934456], [5.778067293, -8.56198454]]\n",
      "c = [0.0, 0.0]\n"
     ]
    }
   ],
   "source": [
    "parameters = initialize_weights()\n",
    "print(\"W = \" + str(parameters[\"W\"]))\n",
    "print(\"b = \" + str(parameters[\"b\"]))\n",
    "print(\"V = \" + str(parameters[\"V\"]))\n",
    "print(\"c = \" + str(parameters[\"c\"]))"
   ]
  },
  {
   "cell_type": "markdown",
   "metadata": {},
   "source": [
    "3 - Implement forward_propagation"
   ]
  },
  {
   "cell_type": "code",
   "execution_count": 388,
   "metadata": {},
   "outputs": [],
   "source": [
    "def forward_propagation_synth(X, parameters):\n",
    "    \"\"\"\n",
    "    Returns:\n",
    "    y -- The softmax output of the second activation\n",
    "    cache -- a dictionary containing \"k\", \"h\", \"y\" and \"y\"\n",
    "    \"\"\"\n",
    "    # Retrieve each parameter from the dictionary \"parameters\"\n",
    "\n",
    "    W = parameters[\"W\"]\n",
    "    b = parameters[\"b\"]\n",
    "    V = parameters[\"V\"]\n",
    "    c = parameters[\"c\"]\n",
    "        \n",
    "    k1 = ([0., 0., 0.])\n",
    "    h = ([0., 0., 0.])\n",
    "    k2 = ([0., 0.])\n",
    "    y = ([0., 0.])\n",
    "    \n",
    "    \n",
    "    # Implement Forward Propagation to calculate A2 (probabilities)\n",
    "    transpose_W = list(map(list, zip(*W))) # transpose_W =3 X 2\n",
    "    transpose_V = list(map(list, zip(*V))) \n",
    "\n",
    "    for j in range(len(transpose_W)):\n",
    "        for i in range(len(X)):\n",
    "            k1[j] += W[i][j] * X[i]\n",
    "        k1[j] += b[j]\n",
    "    \n",
    "    for i in range(len(k1)):\n",
    "        h[i] = sigmoid(k1[i])\n",
    "    \n",
    "    for j in range(len(transpose_V)):\n",
    "        for i in range(len(h)):\n",
    "            k2[j] += V[i][j] * h[i]\n",
    "        k2[j] += c[j]\n",
    "    \n",
    "    y = softmax(k2)\n",
    "    \n",
    "    cache = { \"k1\": k1,\n",
    "              \"h\": h,\n",
    "              \"k2\": k2,\n",
    "              \"y\": y}\n",
    "    \n",
    "   # print(cache)\n",
    "    \n",
    "    return y, cache"
   ]
  },
  {
   "cell_type": "code",
   "execution_count": 389,
   "metadata": {},
   "outputs": [],
   "source": [
    "def cross_entropy(p,y):\n",
    "    log_likelihood = 0.0\n",
    "    for i in range(len(p)):\n",
    "        log_likelihood += -1 * y[i] * log(p[i])\n",
    "    \n",
    "    loss = log_likelihood\n",
    "    return loss"
   ]
  },
  {
   "cell_type": "code",
   "execution_count": 390,
   "metadata": {},
   "outputs": [],
   "source": [
    "def backward_propagation_synth(parameters, cache ,X, Y):\n",
    "    \"\"\"\n",
    "    Returns:\n",
    "    grads -- python dictionary containing gradients with respect to different parameters\n",
    "    \"\"\"\n",
    "    # First, W and V and retrived from the dictionary \"parameters\".\n",
    "    W = parameters[\"W\"]\n",
    "    b = parameters[\"b\"]\n",
    "    V = parameters[\"V\"]\n",
    "    c = parameters[\"c\"]\n",
    "    \n",
    "    transpose_W = list(map(list, zip(*W)))\n",
    "    transpose_V = list(map(list, zip(*V)))\n",
    "        \n",
    "    # Retrieved also k1 and k2 from dictionary \"cache\".\n",
    "    k1 = cache[\"k1\"]\n",
    "    h = cache[\"h\"]\n",
    "    k2 = cache[\"k2\"]  \n",
    "    y = cache[\"y\"]\n",
    "    \n",
    "    dW = ([[0., 0., 0.], [0., 0., 0.]])\n",
    "    db = ([0., 0., 0.])\n",
    "    dV = ([[0., 0.], [0., 0.],[0., 0.]])\n",
    "    dc = ([0., 0.])\n",
    "    \n",
    "    dk1 = ([0., 0., 0.])\n",
    "    dh = ([0., 0., 0.])\n",
    "    dk2 = ([0., 0.])\n",
    "    dy = ([0., 0.])\n",
    "    \n",
    "    dk2 = y - Y\n",
    "    #print(dk2)\n",
    "    \n",
    "    for i in range(len(transpose_W)):\n",
    "        for j in range(len(k2)):\n",
    "            dV[i][j] = dk2[j] * h[i]\n",
    "            dh[i] += dk2[j] * V[i][j]\n",
    "\n",
    "    dc = dk2\n",
    "    #print(dc)\n",
    "\n",
    "    for i in range(len(transpose_W)):\n",
    "        dk1[i] = dh[i] * h[i] * (1 - h[i])\n",
    "    #print(dk1)\n",
    "    \n",
    "    for j in range(len(transpose_W)):\n",
    "        for i in range(len(X)):\n",
    "            dW[i][j] = dk1[j] * X[i]\n",
    "        db[j] = dk1[j]\n",
    "    #print(db)\n",
    "\n",
    "    \n",
    "    \n",
    "    grads = {\"dk1\": dk1,\n",
    "             \"db\": db,\n",
    "             \"dk2\": dk2,\n",
    "             \"dc\": dc}\n",
    "    \n",
    "    return grads"
   ]
  },
  {
   "cell_type": "code",
   "execution_count": 391,
   "metadata": {},
   "outputs": [],
   "source": [
    "def update_parameters_synth(parameters, grads, learning_rate = 1e-2):\n",
    "    \"\"\"\n",
    "    Updates parameters using the gradient descent update rule given above\n",
    "     \n",
    "    \"\"\"\n",
    "    # Retrieve each parameter from the dictionary \"parameters\"\n",
    "    W = parameters[\"W\"]\n",
    "    b = parameters[\"b\"]\n",
    "    V = parameters[\"V\"]\n",
    "    c = parameters[\"c\"]\n",
    "    \n",
    "    # Retrieve each gradient from the dictionary \"grads\"\n",
    "    dk1 = grads[\"dk1\"]\n",
    "    db = grads[\"db\"]\n",
    "    dk2 = grads[\"dk2\"]\n",
    "    dc = grads[\"dc\"]\n",
    "    \n",
    "    dk1 = np.asarray(dk1)\n",
    "    db = np.asarray(db)\n",
    "    dk2 = np.asarray(dk2)\n",
    "    dc = np.asarray(dc)\n",
    "    \n",
    "    # Update rule for each parameter\n",
    "    W = W - dk1 * learning_rate\n",
    "    b = b - db * learning_rate\n",
    "    V = V - dk2 * learning_rate\n",
    "    c = c - dc * learning_rate\n",
    "    \n",
    "    parameters = {\"W\": W,\n",
    "                  \"b\": b,\n",
    "                  \"V\": V,\n",
    "                  \"c\": c}\n",
    "    \n",
    "    return parameters"
   ]
  },
  {
   "cell_type": "code",
   "execution_count": 392,
   "metadata": {},
   "outputs": [],
   "source": [
    "def nn_model(X, Y, epochs = 5):\n",
    "    \n",
    "    # Initialize parameters, then retrieve W1, b1, W2, b2. Inputs: \"n_x, n_h, n_y\". Outputs = \"W1, b1, W2, b2, parameters\".\n",
    "    parameters = initialize_weights()\n",
    "    \n",
    "    loss = list()\n",
    "    m = len(X)\n",
    "    cost_all = list()\n",
    "    # Loop (gradient descent)\n",
    "\n",
    "    for i in range(epochs):       \n",
    "        cost = 0\n",
    "        for data in range(len(X)):\n",
    "             \n",
    "            # Forward propagation. \n",
    "            output, cache = forward_propagation_synth(X[data], parameters)\n",
    "            \n",
    "            # Cost function.\n",
    "            \n",
    "            cost += cross_entropy(output, Y[data])\n",
    "            cost_all.append(cross_entropy(output, Y[data]))\n",
    "            \n",
    "            # Backpropagation. \n",
    "            grads = backward_propagation_synth(parameters, cache, X[data], Y[data])\n",
    " \n",
    "            # Gradient descent parameter update. \n",
    "            parameters = update_parameters_synth(parameters, grads)\n",
    "        \n",
    "        loss.append(cost/m)\n",
    "        print (f\"Loss after iteration {i}: {loss[i]}\")\n",
    "    \n",
    "    return loss, cost_all"
   ]
  },
  {
   "cell_type": "code",
   "execution_count": 393,
   "metadata": {},
   "outputs": [
    {
     "name": "stdout",
     "output_type": "stream",
     "text": [
      "Loss after iteration 0: 0.7020339131770178\n",
      "Loss after iteration 1: 0.6946460538870367\n",
      "Loss after iteration 2: 0.6924208265622442\n",
      "Loss after iteration 3: 0.6917682808364556\n",
      "Loss after iteration 4: 0.6915029567086266\n",
      "Loss after iteration 5: 0.6913639537083309\n",
      "Loss after iteration 6: 0.6912786613584743\n",
      "Loss after iteration 7: 0.6912208334962506\n",
      "Loss after iteration 8: 0.691178915606482\n",
      "Loss after iteration 9: 0.691147055015615\n",
      "Loss after iteration 10: 0.6911219702656924\n",
      "Loss after iteration 11: 0.6911016763924884\n",
      "Loss after iteration 12: 0.6910849002943377\n",
      "Loss after iteration 13: 0.691070786677269\n",
      "Loss after iteration 14: 0.6910587389250002\n",
      "Loss after iteration 15: 0.6910483277298448\n",
      "Loss after iteration 16: 0.6910392360048877\n",
      "Loss after iteration 17: 0.6910312242833466\n",
      "Loss after iteration 18: 0.6910241082174525\n",
      "Loss after iteration 19: 0.6910177435016148\n",
      "Loss after iteration 20: 0.6910120155044605\n",
      "Loss after iteration 21: 0.6910068319748144\n",
      "Loss after iteration 22: 0.6910021178058346\n",
      "Loss after iteration 23: 0.6909978112084284\n",
      "Loss after iteration 24: 0.6909938608694542\n",
      "Loss after iteration 25: 0.6909902238103937\n",
      "Loss after iteration 26: 0.6909868637524155\n",
      "Loss after iteration 27: 0.6909837498531514\n",
      "Loss after iteration 28: 0.6909808557199749\n",
      "Loss after iteration 29: 0.6909781586313294\n",
      "Loss after iteration 30: 0.690975638916708\n",
      "Loss after iteration 31: 0.690973279458534\n",
      "Loss after iteration 32: 0.6909710652889798\n",
      "Loss after iteration 33: 0.6909689832610882\n",
      "Loss after iteration 34: 0.690967021778661\n",
      "Loss after iteration 35: 0.6909651705730705\n",
      "Loss after iteration 36: 0.6909634205176194\n",
      "Loss after iteration 37: 0.6909617634723358\n",
      "Loss after iteration 38: 0.6909601921535119\n",
      "Loss after iteration 39: 0.6909587000234775\n",
      "Loss after iteration 40: 0.6909572811969595\n",
      "Loss after iteration 41: 0.6909559303614068\n",
      "Loss after iteration 42: 0.6909546427085633\n",
      "Loss after iteration 43: 0.690953413875801\n",
      "Loss after iteration 44: 0.6909522398954363\n",
      "Loss after iteration 45: 0.6909511171507704\n",
      "Loss after iteration 46: 0.690950042338031\n",
      "Loss after iteration 47: 0.6909490124330427\n",
      "Loss after iteration 48: 0.690948024662139\n",
      "Loss after iteration 49: 0.690947076476658\n",
      "Loss after iteration 0: 0.7135257831114811\n",
      "Loss after iteration 1: 0.7035312963633612\n",
      "Loss after iteration 2: 0.7023373798055029\n",
      "Loss after iteration 3: 0.7010726461563842\n",
      "Loss after iteration 4: 0.69970720536219\n",
      "Loss after iteration 5: 0.698314507411036\n",
      "Loss after iteration 6: 0.6970307358421731\n",
      "Loss after iteration 7: 0.6959471136732468\n",
      "Loss after iteration 8: 0.6950793406208287\n",
      "Loss after iteration 9: 0.6943998659991004\n",
      "Loss after iteration 10: 0.6938701418756448\n",
      "Loss after iteration 11: 0.69345521300642\n",
      "Loss after iteration 12: 0.6931273258722996\n",
      "Loss after iteration 13: 0.6928654709908981\n",
      "Loss after iteration 14: 0.6926539858242762\n",
      "Loss after iteration 15: 0.6924812211128204\n",
      "Loss after iteration 16: 0.6923384864984237\n",
      "Loss after iteration 17: 0.6922192638813627\n",
      "Loss after iteration 18: 0.6921186315186661\n",
      "Loss after iteration 19: 0.6920328447576938\n",
      "Loss after iteration 20: 0.6919590310304262\n",
      "Loss after iteration 21: 0.6918949676475503\n",
      "Loss after iteration 22: 0.6918389194452218\n",
      "Loss after iteration 23: 0.6917895196748061\n",
      "Loss after iteration 24: 0.6917456821667272\n",
      "Loss after iteration 25: 0.6917065361664451\n",
      "Loss after iteration 26: 0.6916713776666775\n",
      "Loss after iteration 27: 0.6916396327990892\n",
      "Loss after iteration 28: 0.6916108300913162\n",
      "Loss after iteration 29: 0.6915845792818349\n",
      "Loss after iteration 30: 0.6915605550182675\n",
      "Loss after iteration 31: 0.6915384842178499\n",
      "Loss after iteration 32: 0.6915181361935383\n",
      "Loss after iteration 33: 0.69149931488407\n",
      "Loss after iteration 34: 0.6914818526959238\n",
      "Loss after iteration 35: 0.691465605589027\n",
      "Loss after iteration 36: 0.6914504491288406\n",
      "Loss after iteration 37: 0.6914362752943283\n",
      "Loss after iteration 38: 0.691422989881262\n",
      "Loss after iteration 39: 0.6914105103771397\n",
      "Loss after iteration 40: 0.6913987642123334\n",
      "Loss after iteration 41: 0.6913876873128925\n",
      "Loss after iteration 42: 0.691377222896814\n",
      "Loss after iteration 43: 0.6913673204678108\n",
      "Loss after iteration 44: 0.6913579349700816\n",
      "Loss after iteration 45: 0.6913490260751944\n",
      "Loss after iteration 46: 0.6913405575777055\n",
      "Loss after iteration 47: 0.6913324968808511\n",
      "Loss after iteration 48: 0.6913248145570801\n",
      "Loss after iteration 49: 0.6913174839711476\n"
     ]
    }
   ],
   "source": [
    "loss_train = list()\n",
    "loss_test = list()\n",
    "cost_all_train = list()\n",
    "cost_all_test = list()\n",
    "loss_train, cost_all_train = nn_model(xtrain_list, ytrain_list, epochs=50)\n",
    "loss_test, cost_all_test = nn_model(xtest_list, ytest_list, epochs=50)\n"
   ]
  },
  {
   "cell_type": "code",
   "execution_count": 394,
   "metadata": {},
   "outputs": [],
   "source": [
    "BLUE = '#3F6797'\n",
    "# \\definecolor{cbl}{HTML}{4F81BD}\n",
    "# \\definecolor{cbll}{HTML}{7BA1CD}\n",
    "# \\definecolor{cblll}{HTML}{A7C0DE}"
   ]
  },
  {
   "cell_type": "code",
   "execution_count": 395,
   "metadata": {},
   "outputs": [],
   "source": [
    "def clean(ax=None):\n",
    "    if ax is None:\n",
    "        ax = plt.gca()\n",
    "    ax.spines[\"right\"].set_visible(False)\n",
    "    ax.spines[\"top\"].set_visible(False)"
   ]
  },
  {
   "cell_type": "code",
   "execution_count": 396,
   "metadata": {},
   "outputs": [
    {
     "data": {
      "image/png": "[encoded data removed]",
      "text/plain": [
       "<Figure size 864x216 with 1 Axes>"
      ]
     },
     "metadata": {
      "needs_background": "light"
     },
     "output_type": "display_data"
    }
   ],
   "source": [
    "tlb = cost_all_train[:1000]\n",
    "\n",
    "plt.figure(figsize=(12, 3))\n",
    "plt.plot(tlb, color = BLUE, alpha=0.3)\n",
    "\n",
    "k = 2\n",
    "smoothed, idx = [], []\n",
    "for to in range(k, len(tlb)):\n",
    "    fr = to - k\n",
    "    smoothed.append(sum(tlb[fr:to])/k)\n",
    "    idx.append(to)\n",
    "    \n",
    "plt.plot(smoothed, color = BLUE)\n",
    "plt.title('Loss per instance for training data, lr = 1e-2')\n",
    "clean()"
   ]
  },
  {
   "cell_type": "code",
   "execution_count": 397,
   "metadata": {},
   "outputs": [],
   "source": [
    "### Plotting for Cross Entropy Loss and Accuracy on Training Set \n",
    "\n",
    "def training_validation_loss(loss_train, loss_test):\n",
    "        # Create count of the number of epochs\n",
    "        epoch_count = range(1, len(loss_train) + 1)\n",
    "        #plotting\n",
    "        plt.plot(epoch_count,loss_train,\"-b\", label=\" training\")\n",
    "        plt.plot(epoch_count,loss_test, \"-r\", label=\"test\")\n",
    "        plt.ylabel('Cross Entropy Loss')\n",
    "        plt.xlabel('Epoch')\n",
    "        plt.xticks(rotation=60)\n",
    "        plt.title('Loss w.r.t. epoch for learning rate = 1e-2')\n",
    "        plt.legend([\"training\",\"test\"], loc =\"upper right\") \n",
    "        plt.show()\n",
    "\n"
   ]
  },
  {
   "cell_type": "code",
   "execution_count": 398,
   "metadata": {},
   "outputs": [
    {
     "data": {
      "image/png": "[encoded data removed]",
      "text/plain": [
       "<Figure size 432x288 with 1 Axes>"
      ]
     },
     "metadata": {
      "needs_background": "light"
     },
     "output_type": "display_data"
    }
   ],
   "source": [
    "training_validation_loss(loss_train,loss_test)"
   ]
  }
 ],
 "metadata": {
  "kernelspec": {
   "display_name": "Python 3",
   "language": "python",
   "name": "python3"
  },
  "language_info": {
   "codemirror_mode": {
    "name": "ipython",
    "version": 3
   },
   "file_extension": ".py",
   "mimetype": "text/x-python",
   "name": "python",
   "nbconvert_exporter": "python",
   "pygments_lexer": "ipython3",
   "version": "3.8.3"
  }
 },
 "nbformat": 4,
 "nbformat_minor": 4
}
