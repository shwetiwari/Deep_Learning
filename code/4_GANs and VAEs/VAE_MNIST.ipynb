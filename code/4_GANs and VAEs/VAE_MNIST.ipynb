{
 "cells": [
  {
   "cell_type": "code",
   "execution_count": null,
   "metadata": {
    "id": "UBFZdf7LC_9d"
   },
   "outputs": [],
   "source": [
    "import torch\n",
    "import torch.nn as nn\n",
    "import torch.optim as optim\n",
    "import torch.nn.functional as F\n",
    "import matplotlib.pyplot as plt\n",
    "import torchtext\n",
    "import torchvision.transforms as transforms\n",
    "from torchvision import datasets, transforms\n",
    "from tqdm import tqdm\n",
    "import torchvision\n",
    "from torch.utils.data import DataLoader\n",
    "from torchvision.utils import save_image"
   ]
  },
  {
   "cell_type": "code",
   "execution_count": null,
   "metadata": {
    "id": "p16oSTA66ypl"
   },
   "outputs": [],
   "source": []
  },
  {
   "cell_type": "code",
   "execution_count": null,
   "metadata": {
    "id": "ZiTja8t9DETM"
   },
   "outputs": [],
   "source": [
    "features = 16\n",
    "# define a simple linear VAE\n",
    "class VAE(nn.Module):\n",
    "    def __init__(self):\n",
    "        super(VAE, self).__init__()\n",
    " \n",
    "        # encoder\n",
    "        self.enc1 = nn.Linear(in_features=784, out_features=512)\n",
    "        self.enc2 = nn.Linear(in_features=512, out_features=256)\n",
    "        self.enc3 = nn.Linear(in_features=256, out_features=features*2)\n",
    " \n",
    "        # decoder \n",
    "        self.dec1 = nn.Linear(in_features=features, out_features=256)\n",
    "        self.dec2 = nn.Linear(in_features=256, out_features=512)\n",
    "        self.dec3 = nn.Linear(in_features=512, out_features=784)\n",
    "\n",
    "    def reparameterize(self, mu, log_var):\n",
    "        \"\"\"\n",
    "        :param mu: mean from the encoder's latent space\n",
    "        :param log_var: log variance from the encoder's latent space\n",
    "        \"\"\"\n",
    "        std = torch.exp(0.5*log_var) # standard deviation\n",
    "        eps = torch.randn_like(std) # `randn_like` as we need the same size\n",
    "        sample = mu + (eps * std) # sampling as if coming from the input space\n",
    "        return sample\n",
    "\n",
    "    def encoder(self, x):\n",
    "        # encoding\n",
    "        x = F.relu(self.enc1(x))\n",
    "        x = F.relu(self.enc2(x))\n",
    "        x = self.enc3(x).view(-1, 2, features)\n",
    "        # get `mu` and `log_var`\n",
    "        mu = x[:, 0, :] # the first feature values as mean\n",
    "        log_var = x[:, 1, :] # the other feature values as variance\n",
    "\n",
    "        return x, mu, log_var\n",
    "\n",
    "    def decoder(self, z):\n",
    "        # decoding\n",
    "        x = F.relu(self.dec1(z))\n",
    "        x = F.relu(self.dec2(x))\n",
    "        reconstruction = torch.sigmoid(self.dec3(x))\n",
    "\n",
    "        return reconstruction\n",
    " \n",
    "    def forward(self, x):\n",
    "        # encoding\n",
    "        x, mu, log_var = self.encoder(x)\n",
    "\n",
    "        # get the latent vector through reparameterization\n",
    "        z = self.reparameterize(mu, log_var)\n",
    " \n",
    "        # decoding\n",
    "        reconstruction = self.decoder(z)\n",
    "\n",
    "        return reconstruction, mu, log_var\n",
    "  "
   ]
  },
  {
   "cell_type": "code",
   "execution_count": null,
   "metadata": {
    "id": "CbpwGTX3DEVv"
   },
   "outputs": [],
   "source": [
    "# learning parameters\n",
    "epochs = 30\n",
    "batch_size = 64\n",
    "lr = 0.001\n",
    "device = torch.device('cuda' if torch.cuda.is_available() else 'cpu')"
   ]
  },
  {
   "cell_type": "code",
   "execution_count": null,
   "metadata": {
    "colab": {
     "base_uri": "https://localhost:8080/",
     "height": 400,
     "referenced_widgets": [
      "1ad47234bf254aa19cfa67aa4fa129c7",
      "881a965610464c6ab5063f13bdf3d0ce",
      "0f7de023ceb14107891aba1ad60c770c",
      "d0b83e1fe030420098412766885af06a",
      "bc7a4db9d05a4d01b1b6d597ade389e6",
      "179e79b624024b3e86bd5fa9973d5678",
      "5d97a1f694634e6b93d25b218adca4eb",
      "478499cd2a3749ce8dbd5a92d0fb5b90",
      "b610a965587744b4b5430cb3b09c8370",
      "bf1acacbb6784f7ea212587aa8790403",
      "9f70146e099149d69de87f8c7a2dda40",
      "434a8e5bdd124dda98c34012c068a700",
      "e3f3031be4e942309c26958ec8b5cad9",
      "1647806cb78547b29aa8fbdec3513804",
      "13be61f4f4c345c882da066822fb3ddd",
      "ba201db99e334b6f83d4142d6f5013f0",
      "e5692ff7df0b4dee80331af25bc73d75",
      "69c5edf87de34522aec66d784736fc7c",
      "0ba6c1d3017b44d4a17c8c3d6e032e4c",
      "085089c8e34c4ff796ddfdbfedb56245",
      "37a7939b54c24fcbb0941f81d80acb13",
      "5848878e5d954ee1aab5a909cb38339e",
      "ab47b9b213ac465684f1628fc8b86619",
      "465a0e82fb8b42019c904733c9b7a0b0",
      "2045ecf8a644435c88f2220a8d348d8c",
      "8f8339c3c5814c76b4d1ab059cac627b",
      "cbaddf4d86fe443aac9050cf29ebc40b",
      "e2c39788d2a94386a7d36aec312ec0c1",
      "df777bacd0af4074ae8a3fd878522ad2",
      "b03dec1c268442c1b1d59d4fa424c7a5",
      "05d5dfbbaf9d482eac403c90df68c93c",
      "d4b598e4b92440b2a4766d44c15eca23"
     ]
    },
    "id": "QD_Kcwf_DEae",
    "outputId": "21b010cd-a9e5-481b-c097-c9308eb12905"
   },
   "outputs": [
    {
     "name": "stdout",
     "output_type": "stream",
     "text": [
      "Downloading http://yann.lecun.com/exdb/mnist/train-images-idx3-ubyte.gz to ./mnist_data/MNIST/raw/train-images-idx3-ubyte.gz\n"
     ]
    },
    {
     "data": {
      "application/vnd.jupyter.widget-view+json": {
       "model_id": "1ad47234bf254aa19cfa67aa4fa129c7",
       "version_major": 2,
       "version_minor": 0
      },
      "text/plain": [
       "HBox(children=(FloatProgress(value=1.0, bar_style='info', max=1.0), HTML(value='')))"
      ]
     },
     "metadata": {
      "tags": []
     },
     "output_type": "display_data"
    },
    {
     "name": "stdout",
     "output_type": "stream",
     "text": [
      "Extracting ./mnist_data/MNIST/raw/train-images-idx3-ubyte.gz to ./mnist_data/MNIST/raw\n",
      "Downloading http://yann.lecun.com/exdb/mnist/train-labels-idx1-ubyte.gz to ./mnist_data/MNIST/raw/train-labels-idx1-ubyte.gz\n"
     ]
    },
    {
     "data": {
      "application/vnd.jupyter.widget-view+json": {
       "model_id": "b610a965587744b4b5430cb3b09c8370",
       "version_major": 2,
       "version_minor": 0
      },
      "text/plain": [
       "HBox(children=(FloatProgress(value=1.0, bar_style='info', max=1.0), HTML(value='')))"
      ]
     },
     "metadata": {
      "tags": []
     },
     "output_type": "display_data"
    },
    {
     "name": "stdout",
     "output_type": "stream",
     "text": [
      "Extracting ./mnist_data/MNIST/raw/train-labels-idx1-ubyte.gz to ./mnist_data/MNIST/raw\n",
      "Downloading http://yann.lecun.com/exdb/mnist/t10k-images-idx3-ubyte.gz to ./mnist_data/MNIST/raw/t10k-images-idx3-ubyte.gz\n"
     ]
    },
    {
     "data": {
      "application/vnd.jupyter.widget-view+json": {
       "model_id": "e5692ff7df0b4dee80331af25bc73d75",
       "version_major": 2,
       "version_minor": 0
      },
      "text/plain": [
       "HBox(children=(FloatProgress(value=1.0, bar_style='info', max=1.0), HTML(value='')))"
      ]
     },
     "metadata": {
      "tags": []
     },
     "output_type": "display_data"
    },
    {
     "name": "stdout",
     "output_type": "stream",
     "text": [
      "Extracting ./mnist_data/MNIST/raw/t10k-images-idx3-ubyte.gz to ./mnist_data/MNIST/raw\n",
      "Downloading http://yann.lecun.com/exdb/mnist/t10k-labels-idx1-ubyte.gz to ./mnist_data/MNIST/raw/t10k-labels-idx1-ubyte.gz\n",
      "\n",
      "\n"
     ]
    },
    {
     "data": {
      "application/vnd.jupyter.widget-view+json": {
       "model_id": "2045ecf8a644435c88f2220a8d348d8c",
       "version_major": 2,
       "version_minor": 0
      },
      "text/plain": [
       "HBox(children=(FloatProgress(value=1.0, bar_style='info', max=1.0), HTML(value='')))"
      ]
     },
     "metadata": {
      "tags": []
     },
     "output_type": "display_data"
    },
    {
     "name": "stdout",
     "output_type": "stream",
     "text": [
      "Extracting ./mnist_data/MNIST/raw/t10k-labels-idx1-ubyte.gz to ./mnist_data/MNIST/raw\n",
      "Processing...\n",
      "Done!\n"
     ]
    },
    {
     "name": "stderr",
     "output_type": "stream",
     "text": [
      "/usr/local/lib/python3.6/dist-packages/torchvision/datasets/mnist.py:480: UserWarning: The given NumPy array is not writeable, and PyTorch does not support non-writeable tensors. This means you can write to the underlying (supposedly non-writeable) NumPy array using the tensor. You may want to copy the array to protect its data or make it writeable before converting it to a tensor. This type of warning will be suppressed for the rest of this program. (Triggered internally at  /pytorch/torch/csrc/utils/tensor_numpy.cpp:141.)\n",
      "  return torch.from_numpy(parsed.astype(m[2], copy=False)).view(*s)\n"
     ]
    }
   ],
   "source": [
    "\n",
    "# MNIST Dataset\n",
    "train_dataset = datasets.MNIST(root='./mnist_data/', train=True, transform=transforms.ToTensor(), download=True)\n",
    "train_dataset, validationset = torch.utils.data.random_split(train_dataset, [50000, 10000])\n",
    "test_dataset = datasets.MNIST(root='./mnist_data/', train=False, transform=transforms.ToTensor(), download=False)\n",
    "\n",
    "# Data Loader (Input Pipeline)\n",
    "trainloader = torch.utils.data.DataLoader(train_dataset, batch_size=batch_size, shuffle=True)\n",
    "validationloader = torch.utils.data.DataLoader(validationset, shuffle=True, batch_size=batch_size)\n",
    "testloader = torch.utils.data.DataLoader(test_dataset, batch_size=batch_size, shuffle=False)\n",
    "\n",
    "classes = ('zero','one', 'two', 'three', 'four',\n",
    "           'five', 'six', 'seven', 'eight', 'nine')"
   ]
  },
  {
   "cell_type": "code",
   "execution_count": null,
   "metadata": {
    "id": "zzO751BxDEdI"
   },
   "outputs": [],
   "source": [
    "vae = VAE().to(device)\n",
    "optimizer = optim.Adam(vae.parameters(), lr=lr)\n",
    "criterion = nn.BCELoss(reduction='sum')"
   ]
  },
  {
   "cell_type": "code",
   "execution_count": null,
   "metadata": {
    "colab": {
     "base_uri": "https://localhost:8080/"
    },
    "id": "aiZ7XlwPqqaO",
    "outputId": "fe3414dc-a8db-4dd2-d182-4cd557494587"
   },
   "outputs": [
    {
     "name": "stdout",
     "output_type": "stream",
     "text": [
      "Number of parameters: 1079600\n"
     ]
    }
   ],
   "source": [
    "num_params = sum(p.numel() for p in vae.parameters() if p.requires_grad)\n",
    "print('Number of parameters: %d' % num_params)"
   ]
  },
  {
   "cell_type": "code",
   "execution_count": null,
   "metadata": {
    "id": "kyIrIG20DEiS"
   },
   "outputs": [],
   "source": [
    "def final_loss(bce_loss, mu, logvar):\n",
    "    \"\"\"\n",
    "    This function will add the reconstruction loss (BCELoss) and the \n",
    "    KL-Divergence.\n",
    "    KL-Divergence = 0.5 * sum(1 + log(sigma^2) - mu^2 - sigma^2)\n",
    "    :param bce_loss: recontruction loss\n",
    "    :param mu: the mean from the latent vector\n",
    "    :param logvar: log variance from the latent vector\n",
    "    \"\"\"\n",
    "    BCE = bce_loss \n",
    "    KLD = -0.5 * torch.sum(1 + logvar - mu.pow(2) - logvar.exp())\n",
    "    return BCE + KLD"
   ]
  },
  {
   "cell_type": "code",
   "execution_count": null,
   "metadata": {
    "id": "03q-ZxULzXkQ"
   },
   "outputs": [],
   "source": [
    "def loss_function(recon_x, x, mu, log_var):\n",
    "    BCE = F.binary_cross_entropy(recon_x, x.view(-1, 784), reduction='sum')\n",
    "    KLD = -0.5 * torch.sum(1 + log_var - mu.pow(2) - log_var.exp())\n",
    "    return BCE + KLD"
   ]
  },
  {
   "cell_type": "code",
   "execution_count": null,
   "metadata": {
    "colab": {
     "base_uri": "https://localhost:8080/"
    },
    "id": "r7qt2PX2DEof",
    "outputId": "939ff467-0bba-4294-a628-114530165383"
   },
   "outputs": [
    {
     "name": "stdout",
     "output_type": "stream",
     "text": [
      "Epoch 1 of 30\n",
      "Train Loss:      114.19684431396485\n",
      "Validation Loss: 111.33430220947265\n",
      "--------------------------------------------------\n",
      "Epoch 2 of 30\n",
      "Train Loss:      110.86604204101563\n",
      "Validation Loss: 109.24746589355469\n",
      "--------------------------------------------------\n",
      "Epoch 3 of 30\n",
      "Train Loss:      108.85334800292969\n",
      "Validation Loss: 107.83445224609375\n",
      "--------------------------------------------------\n",
      "Epoch 4 of 30\n",
      "Train Loss:      107.3750410498047\n",
      "Validation Loss: 106.64497271728516\n",
      "--------------------------------------------------\n",
      "Epoch 5 of 30\n",
      "Train Loss:      106.25582525390625\n",
      "Validation Loss: 106.1114681640625\n",
      "--------------------------------------------------\n",
      "Epoch 6 of 30\n",
      "Train Loss:      105.43737705810547\n",
      "Validation Loss: 105.49021186523437\n",
      "--------------------------------------------------\n",
      "Epoch 7 of 30\n",
      "Train Loss:      104.70463882080078\n",
      "Validation Loss: 104.40568868408204\n",
      "--------------------------------------------------\n",
      "Epoch 8 of 30\n",
      "Train Loss:      103.96156873535156\n",
      "Validation Loss: 104.48209582519532\n",
      "--------------------------------------------------\n",
      "Epoch 9 of 30\n",
      "Train Loss:      103.28192301269532\n",
      "Validation Loss: 103.55521298828126\n",
      "--------------------------------------------------\n",
      "Epoch 10 of 30\n",
      "Train Loss:      102.76858587890625\n",
      "Validation Loss: 103.58235567626953\n",
      "--------------------------------------------------\n",
      "Epoch 11 of 30\n",
      "Train Loss:      102.28569927490234\n",
      "Validation Loss: 103.00540499267578\n",
      "--------------------------------------------------\n",
      "Epoch 12 of 30\n",
      "Train Loss:      101.82684078369141\n",
      "Validation Loss: 102.65968156738282\n",
      "--------------------------------------------------\n",
      "Epoch 13 of 30\n",
      "Train Loss:      101.56182369873046\n",
      "Validation Loss: 102.4347182861328\n",
      "--------------------------------------------------\n",
      "Epoch 14 of 30\n",
      "Train Loss:      101.29616697265625\n",
      "Validation Loss: 101.8545634765625\n",
      "--------------------------------------------------\n",
      "Epoch 15 of 30\n",
      "Train Loss:      100.9256582055664\n",
      "Validation Loss: 102.00470407714843\n",
      "--------------------------------------------------\n",
      "Epoch 16 of 30\n",
      "Train Loss:      100.73226518798828\n",
      "Validation Loss: 101.79399462890625\n",
      "--------------------------------------------------\n",
      "Epoch 17 of 30\n",
      "Train Loss:      100.43621756591797\n",
      "Validation Loss: 101.76699252929687\n",
      "--------------------------------------------------\n",
      "Epoch 18 of 30\n",
      "Train Loss:      100.2128762475586\n",
      "Validation Loss: 101.42101918945312\n",
      "--------------------------------------------------\n",
      "Epoch 19 of 30\n",
      "Train Loss:      100.09160780517578\n",
      "Validation Loss: 101.34516490478515\n",
      "--------------------------------------------------\n",
      "Epoch 20 of 30\n",
      "Train Loss:      99.88067103759765\n",
      "Validation Loss: 101.2117224609375\n",
      "--------------------------------------------------\n",
      "Epoch 21 of 30\n",
      "Train Loss:      99.74084661621093\n",
      "Validation Loss: 100.90348334960937\n",
      "--------------------------------------------------\n",
      "Epoch 22 of 30\n",
      "Train Loss:      99.50518479736328\n",
      "Validation Loss: 100.8889272705078\n",
      "--------------------------------------------------\n",
      "Epoch 23 of 30\n",
      "Train Loss:      99.37429410888672\n",
      "Validation Loss: 100.88130661621094\n",
      "--------------------------------------------------\n",
      "Epoch 24 of 30\n",
      "Train Loss:      99.221054296875\n",
      "Validation Loss: 100.9025273803711\n",
      "--------------------------------------------------\n",
      "Epoch 25 of 30\n",
      "Train Loss:      99.07082152587891\n",
      "Validation Loss: 100.95545401611328\n",
      "--------------------------------------------------\n",
      "Epoch 26 of 30\n",
      "Train Loss:      98.99562291015626\n",
      "Validation Loss: 100.67351032714843\n",
      "--------------------------------------------------\n",
      "Epoch 27 of 30\n",
      "Train Loss:      98.91530042236329\n",
      "Validation Loss: 101.01169826660156\n",
      "--------------------------------------------------\n",
      "Epoch 28 of 30\n",
      "Train Loss:      98.728579765625\n",
      "Validation Loss: 100.76270051269532\n",
      "--------------------------------------------------\n",
      "Epoch 29 of 30\n",
      "Train Loss:      98.6173859375\n",
      "Validation Loss: 100.90930190429688\n",
      "--------------------------------------------------\n",
      "Epoch 30 of 30\n",
      "Train Loss:      98.52335418945313\n",
      "Validation Loss: 100.4739907836914\n",
      "--------------------------------------------------\n"
     ]
    }
   ],
   "source": [
    "train_loss = []\n",
    "val_loss = []\n",
    "\n",
    "for epoch in range(epochs):\n",
    "    print(f\"Epoch {epoch+1} of {epochs}\")\n",
    "\n",
    "    running_loss_tr = 0.0\n",
    "    running_loss_val = 0.0\n",
    "\n",
    "    vae.train()\n",
    "    for i, data in enumerate(trainloader): #tqdm(enum..), total=int(len(trainset)/trainloader.batch_size)):\n",
    "        data, _ = data\n",
    "        data = data.to(device)\n",
    "        data = data.view(data.size(0), -1)\n",
    "        optimizer.zero_grad()\n",
    "        reconstruction, mu, logvar = vae(data)\n",
    "        #bce_loss = criterion(reconstruction, data.view(-1, 784))\n",
    "        #loss = final_loss(bce_loss, mu, logvar)\n",
    "        loss = loss_function(reconstruction, data, mu, logvar)\n",
    "        running_loss_tr += loss.item()\n",
    "        loss.backward()\n",
    "        optimizer.step()\n",
    "\n",
    "    train_loss.append(running_loss_tr/len(trainloader.dataset))\n",
    "\n",
    "    vae.eval()\n",
    "    with torch.no_grad():\n",
    "        for i, data in enumerate(validationloader): #tqdm(en..#, total=int(len(validationset)/validationloader.batch_size)):\n",
    "          data, _ = data\n",
    "          data = data.to(device)\n",
    "          data = data.view(data.size(0), -1)\n",
    "          reconstruction, mu, logvar = vae(data)\n",
    "          #bce_loss = criterion(reconstruction, data)\n",
    "          #loss = final_loss(bce_loss, mu, logvar)\n",
    "          loss_val = loss_function(reconstruction, data, mu, logvar)\n",
    "          running_loss_val += loss_val.item()\n",
    "      \n",
    "          # save the last batch input and output of every epoch\n",
    "          if i == int(len(validationset)/validationloader.batch_size) - 1:\n",
    "              num_rows = 8\n",
    "              both = torch.cat((data.view(batch_size, 1, 28, 28)[:8], \n",
    "                                reconstruction.view(batch_size, 1, 28, 28)[:8]))\n",
    "              #save_image(both.cpu(), f'./data/output{epoch}.png', nrow=num_rows)\n",
    "\n",
    "        val_loss.append(running_loss_val/len(validationloader.dataset))\n",
    "\n",
    "    print('Train Loss:      {}'.format(running_loss_tr/len(trainloader.dataset)))\n",
    "    print('Validation Loss: {}'.format(running_loss_val/len(validationloader.dataset)))\n",
    "    print('-'*50)\n",
    "\n",
    "  \n",
    "   "
   ]
  },
  {
   "cell_type": "code",
   "execution_count": null,
   "metadata": {
    "colab": {
     "base_uri": "https://localhost:8080/",
     "height": 302
    },
    "id": "xnGPN-msFJkV",
    "outputId": "9c641e03-2bbe-427f-d313-3619a98fee1e"
   },
   "outputs": [
    {
     "data": {
      "image/png": "[encoded data removed]",
      "text/plain": [
       "<Figure size 576x288 with 1 Axes>"
      ]
     },
     "metadata": {
      "needs_background": "light",
      "tags": []
     },
     "output_type": "display_data"
    }
   ],
   "source": [
    "import matplotlib.pyplot as plt\n",
    "plt.subplots(figsize=(8,4))\n",
    "epochs_plot = [1,2,3,4,5,6,7,8,9,10,11,12,13,14,15,16,17,18,19,20,21,22,23,24,25,26,27,28,29,30]\n",
    "plt.plot(epochs_plot, train_loss, label = \"Training Loss\", color=\"darkblue\")\n",
    "plt.plot(epochs_plot, val_loss , label = \"Validation loss\", color = \"orange\")\n",
    "plt.ylabel('Loss', fontsize=15)\n",
    "plt.xlabel('Epochs', fontsize=15)\n",
    "plt.title(\"VAE Loss plot\", fontsize=15)\n",
    "plt.legend()\n",
    "#plt.savefig('VAE_Loss_plot.svg')\n",
    "plt.show()"
   ]
  },
  {
   "cell_type": "code",
   "execution_count": null,
   "metadata": {
    "colab": {
     "base_uri": "https://localhost:8080/",
     "height": 272
    },
    "id": "G1GrDbF3eHIR",
    "outputId": "3d4ca957-2a5a-4ac4-9cc3-4ab3a40bbee6"
   },
   "outputs": [
    {
     "data": {
      "image/png": "[encoded data removed]",
      "text/plain": [
       "<Figure size 1152x576 with 2 Axes>"
      ]
     },
     "metadata": {
      "needs_background": "light",
      "tags": []
     },
     "output_type": "display_data"
    }
   ],
   "source": [
    "import numpy as np\n",
    "import matplotlib.pyplot as plt\n",
    "plt.ion()\n",
    "\n",
    "import torchvision.utils\n",
    "plt.figure(figsize=(16,8))\n",
    "vae.eval()\n",
    "\n",
    "# This function takes as an input the images to reconstruct\n",
    "# and the name of the model with which the reconstructions\n",
    "# are performed\n",
    "def to_img(x):\n",
    "    x = x.clamp(0, 1)\n",
    "    return x\n",
    "\n",
    "def show_image(img):\n",
    "    img = to_img(img)\n",
    "    npimg = img.numpy()\n",
    "    plt.imshow(np.transpose(npimg, (1, 2, 0)))\n",
    "\n",
    "images, labels = iter(testloader).next()\n",
    "\n",
    "# First visualise the original images\n",
    "plt.subplot(1, 2, 1)\n",
    "plt.title('Original Images', fontsize = 15)\n",
    "x = torchvision.utils.make_grid(images[1:51],10,5)\n",
    "x = x.clamp(0,1)\n",
    "x = x.numpy()\n",
    "plt.imshow(np.transpose(x,(1,2,0) ))\n",
    "#plt.show()\n",
    "\n",
    "# Reconstruct and visualise the images using the vae\n",
    "plt.subplot(1, 2, 2)\n",
    "plt.title('VAE reconstruction', fontsize = 15)\n",
    "with torch.no_grad():\n",
    "\n",
    "  images_recon = images.to(device)\n",
    "  images_recon = images_recon.view(images_recon.size(0), -1)\n",
    "  images_recon, _, _ = vae(images_recon)\n",
    "  images_recon = images_recon.cpu()\n",
    "  #images_recon = to_img(images_recon)\n",
    "  images_recon = images_recon.view(batch_size, 1, 28, 28)\n",
    "  np_imagegrid = torchvision.utils.make_grid(images_recon[1:51], 10, 5).numpy()\n",
    "  plt.imshow(np.transpose(np_imagegrid, (1, 2, 0)))\n",
    "  plt.show()"
   ]
  },
  {
   "cell_type": "code",
   "execution_count": null,
   "metadata": {
    "colab": {
     "base_uri": "https://localhost:8080/",
     "height": 390
    },
    "id": "VKgLSWv37YUt",
    "outputId": "ef893684-0936-443b-80eb-8f3142a66a59"
   },
   "outputs": [
    {
     "data": {
      "image/png": "[encoded data removed]",
      "text/plain": [
       "<Figure size 1080x432 with 10 Axes>"
      ]
     },
     "metadata": {
      "needs_background": "light",
      "tags": []
     },
     "output_type": "display_data"
    }
   ],
   "source": [
    "vae.eval()\n",
    "\n",
    "def interpolation(lambda1, model, img1, img2):\n",
    "    \n",
    "    with torch.no_grad():\n",
    "    \n",
    "        # latent vector of first image\n",
    "        img1 = img1.view(img1.size(0), -1)\n",
    "        img1 = img1.to(device)\n",
    "        latent_1, _, _ = model.encoder(img1)\n",
    "\n",
    "        # latent vector of second image\n",
    "        img2 = img2.view(img2.size(0), -1)\n",
    "        img2 = img2.to(device)\n",
    "        latent_2, _, _ = model.encoder(img2)\n",
    "\n",
    "        # interpolation of the two latent vectors\n",
    "        inter_latent = lambda1* latent_1 + (1- lambda1) * latent_2\n",
    "\n",
    "        # reconstruct interpolated image\n",
    "        inter_image = model.decoder(inter_latent)\n",
    "        inter_image = inter_image.cpu()\n",
    "\n",
    "        return inter_image\n",
    "    \n",
    "# sort part of test set by digit\n",
    "digits = [[] for _ in range(10)]\n",
    "for img_batch, label_batch in validationloader:\n",
    "    for i in range(img_batch.size(0)):\n",
    "        digits[label_batch[i]].append(img_batch[i:i+1])\n",
    "    if sum(len(d) for d in digits) >= 1000:\n",
    "        break;\n",
    "\n",
    "# interpolation lambdas\n",
    "lambda_range=np.linspace(0,1,10)\n",
    "\n",
    "fig, axs = plt.subplots(2,5, figsize=(15, 6))\n",
    "fig.subplots_adjust(hspace = .5, wspace=.001)\n",
    "axs = axs.ravel()\n",
    "\n",
    "for ind,l in enumerate(lambda_range):\n",
    "    inter_image=interpolation(float(l), vae, digits[7][0], digits[1][0])\n",
    "   \n",
    "    inter_image = to_img(inter_image)\n",
    "    \n",
    "    image = inter_image.cpu()\n",
    "    image = image.view(1,2, 1, 28, 28)\n",
    "    np_imagegrid = torchvision.utils.make_grid(image[0,0,:,:,:]).numpy()\n",
    "    axs[ind].imshow(np.transpose(np_imagegrid, (1, 2, 0)))\n",
    "   \n",
    "    axs[ind].set_title('lambda_val='+str(round(l,1)))\n",
    "plt.show() \n"
   ]
  },
  {
   "cell_type": "code",
   "execution_count": null,
   "metadata": {
    "colab": {
     "base_uri": "https://localhost:8080/"
    },
    "id": "8T16wsCEnlTH",
    "outputId": "471aad57-d55e-4155-cb48-82fd12e466d1"
   },
   "outputs": [
    {
     "data": {
      "text/plain": [
       "torch.Size([1, 2, 1, 28, 28])"
      ]
     },
     "execution_count": 68,
     "metadata": {
      "tags": []
     },
     "output_type": "execute_result"
    }
   ],
   "source": [
    "inter_image.view(1,2,1,28,28).shape"
   ]
  },
  {
   "cell_type": "code",
   "execution_count": null,
   "metadata": {
    "id": "H8uDJYN_FJx0"
   },
   "outputs": [],
   "source": [
    "# reconstruct a new dataset and compare it with the test set through FID Score, which has to be implmented."
   ]
  },
  {
   "cell_type": "code",
   "execution_count": null,
   "metadata": {
    "id": "4G8T1Ag6FJ0p"
   },
   "outputs": [],
   "source": []
  },
  {
   "cell_type": "code",
   "execution_count": null,
   "metadata": {
    "id": "wbq4rOh-FJ4k"
   },
   "outputs": [],
   "source": []
  }
 ],
 "metadata": {
  "accelerator": "GPU",
  "colab": {
   "name": "VAE-Assign5-MNIST.ipynb",
   "provenance": []
  },
  "kernelspec": {
   "display_name": "Python 3",
   "language": "python",
   "name": "python3"
  },
  "language_info": {
   "codemirror_mode": {
    "name": "ipython",
    "version": 3
   },
   "file_extension": ".py",
   "mimetype": "text/x-python",
   "name": "python",
   "nbconvert_exporter": "python",
   "pygments_lexer": "ipython3",
   "version": "3.8.3"
  },
  "widgets": {
   "application/vnd.jupyter.widget-state+json": {
    "05d5dfbbaf9d482eac403c90df68c93c": {
     "model_module": "@jupyter-widgets/controls",
     "model_name": "DescriptionStyleModel",
     "state": {
      "_model_module": "@jupyter-widgets/controls",
      "_model_module_version": "1.5.0",
      "_model_name": "DescriptionStyleModel",
      "_view_count": null,
      "_view_module": "@jupyter-widgets/base",
      "_view_module_version": "1.2.0",
      "_view_name": "StyleView",
      "description_width": ""
     }
    },
    "085089c8e34c4ff796ddfdbfedb56245": {
     "model_module": "@jupyter-widgets/controls",
     "model_name": "HTMLModel",
     "state": {
      "_dom_classes": [],
      "_model_module": "@jupyter-widgets/controls",
      "_model_module_version": "1.5.0",
      "_model_name": "HTMLModel",
      "_view_count": null,
      "_view_module": "@jupyter-widgets/controls",
      "_view_module_version": "1.5.0",
      "_view_name": "HTMLView",
      "description": "",
      "description_tooltip": null,
      "layout": "IPY_MODEL_465a0e82fb8b42019c904733c9b7a0b0",
      "placeholder": "​",
      "style": "IPY_MODEL_ab47b9b213ac465684f1628fc8b86619",
      "value": " 1654784/? [00:00&lt;00:00, 2108463.38it/s]"
     }
    },
    "0ba6c1d3017b44d4a17c8c3d6e032e4c": {
     "model_module": "@jupyter-widgets/controls",
     "model_name": "FloatProgressModel",
     "state": {
      "_dom_classes": [],
      "_model_module": "@jupyter-widgets/controls",
      "_model_module_version": "1.5.0",
      "_model_name": "FloatProgressModel",
      "_view_count": null,
      "_view_module": "@jupyter-widgets/controls",
      "_view_module_version": "1.5.0",
      "_view_name": "ProgressView",
      "bar_style": "success",
      "description": "",
      "description_tooltip": null,
      "layout": "IPY_MODEL_5848878e5d954ee1aab5a909cb38339e",
      "max": 1,
      "min": 0,
      "orientation": "horizontal",
      "style": "IPY_MODEL_37a7939b54c24fcbb0941f81d80acb13",
      "value": 1
     }
    },
    "0f7de023ceb14107891aba1ad60c770c": {
     "model_module": "@jupyter-widgets/controls",
     "model_name": "FloatProgressModel",
     "state": {
      "_dom_classes": [],
      "_model_module": "@jupyter-widgets/controls",
      "_model_module_version": "1.5.0",
      "_model_name": "FloatProgressModel",
      "_view_count": null,
      "_view_module": "@jupyter-widgets/controls",
      "_view_module_version": "1.5.0",
      "_view_name": "ProgressView",
      "bar_style": "info",
      "description": "",
      "description_tooltip": null,
      "layout": "IPY_MODEL_179e79b624024b3e86bd5fa9973d5678",
      "max": 1,
      "min": 0,
      "orientation": "horizontal",
      "style": "IPY_MODEL_bc7a4db9d05a4d01b1b6d597ade389e6",
      "value": 1
     }
    },
    "13be61f4f4c345c882da066822fb3ddd": {
     "model_module": "@jupyter-widgets/controls",
     "model_name": "DescriptionStyleModel",
     "state": {
      "_model_module": "@jupyter-widgets/controls",
      "_model_module_version": "1.5.0",
      "_model_name": "DescriptionStyleModel",
      "_view_count": null,
      "_view_module": "@jupyter-widgets/base",
      "_view_module_version": "1.2.0",
      "_view_name": "StyleView",
      "description_width": ""
     }
    },
    "1647806cb78547b29aa8fbdec3513804": {
     "model_module": "@jupyter-widgets/base",
     "model_name": "LayoutModel",
     "state": {
      "_model_module": "@jupyter-widgets/base",
      "_model_module_version": "1.2.0",
      "_model_name": "LayoutModel",
      "_view_count": null,
      "_view_module": "@jupyter-widgets/base",
      "_view_module_version": "1.2.0",
      "_view_name": "LayoutView",
      "align_content": null,
      "align_items": null,
      "align_self": null,
      "border": null,
      "bottom": null,
      "display": null,
      "flex": null,
      "flex_flow": null,
      "grid_area": null,
      "grid_auto_columns": null,
      "grid_auto_flow": null,
      "grid_auto_rows": null,
      "grid_column": null,
      "grid_gap": null,
      "grid_row": null,
      "grid_template_areas": null,
      "grid_template_columns": null,
      "grid_template_rows": null,
      "height": null,
      "justify_content": null,
      "justify_items": null,
      "left": null,
      "margin": null,
      "max_height": null,
      "max_width": null,
      "min_height": null,
      "min_width": null,
      "object_fit": null,
      "object_position": null,
      "order": null,
      "overflow": null,
      "overflow_x": null,
      "overflow_y": null,
      "padding": null,
      "right": null,
      "top": null,
      "visibility": null,
      "width": null
     }
    },
    "179e79b624024b3e86bd5fa9973d5678": {
     "model_module": "@jupyter-widgets/base",
     "model_name": "LayoutModel",
     "state": {
      "_model_module": "@jupyter-widgets/base",
      "_model_module_version": "1.2.0",
      "_model_name": "LayoutModel",
      "_view_count": null,
      "_view_module": "@jupyter-widgets/base",
      "_view_module_version": "1.2.0",
      "_view_name": "LayoutView",
      "align_content": null,
      "align_items": null,
      "align_self": null,
      "border": null,
      "bottom": null,
      "display": null,
      "flex": null,
      "flex_flow": null,
      "grid_area": null,
      "grid_auto_columns": null,
      "grid_auto_flow": null,
      "grid_auto_rows": null,
      "grid_column": null,
      "grid_gap": null,
      "grid_row": null,
      "grid_template_areas": null,
      "grid_template_columns": null,
      "grid_template_rows": null,
      "height": null,
      "justify_content": null,
      "justify_items": null,
      "left": null,
      "margin": null,
      "max_height": null,
      "max_width": null,
      "min_height": null,
      "min_width": null,
      "object_fit": null,
      "object_position": null,
      "order": null,
      "overflow": null,
      "overflow_x": null,
      "overflow_y": null,
      "padding": null,
      "right": null,
      "top": null,
      "visibility": null,
      "width": null
     }
    },
    "1ad47234bf254aa19cfa67aa4fa129c7": {
     "model_module": "@jupyter-widgets/controls",
     "model_name": "HBoxModel",
     "state": {
      "_dom_classes": [],
      "_model_module": "@jupyter-widgets/controls",
      "_model_module_version": "1.5.0",
      "_model_name": "HBoxModel",
      "_view_count": null,
      "_view_module": "@jupyter-widgets/controls",
      "_view_module_version": "1.5.0",
      "_view_name": "HBoxView",
      "box_style": "",
      "children": [
       "IPY_MODEL_0f7de023ceb14107891aba1ad60c770c",
       "IPY_MODEL_d0b83e1fe030420098412766885af06a"
      ],
      "layout": "IPY_MODEL_881a965610464c6ab5063f13bdf3d0ce"
     }
    },
    "2045ecf8a644435c88f2220a8d348d8c": {
     "model_module": "@jupyter-widgets/controls",
     "model_name": "HBoxModel",
     "state": {
      "_dom_classes": [],
      "_model_module": "@jupyter-widgets/controls",
      "_model_module_version": "1.5.0",
      "_model_name": "HBoxModel",
      "_view_count": null,
      "_view_module": "@jupyter-widgets/controls",
      "_view_module_version": "1.5.0",
      "_view_name": "HBoxView",
      "box_style": "",
      "children": [
       "IPY_MODEL_cbaddf4d86fe443aac9050cf29ebc40b",
       "IPY_MODEL_e2c39788d2a94386a7d36aec312ec0c1"
      ],
      "layout": "IPY_MODEL_8f8339c3c5814c76b4d1ab059cac627b"
     }
    },
    "37a7939b54c24fcbb0941f81d80acb13": {
     "model_module": "@jupyter-widgets/controls",
     "model_name": "ProgressStyleModel",
     "state": {
      "_model_module": "@jupyter-widgets/controls",
      "_model_module_version": "1.5.0",
      "_model_name": "ProgressStyleModel",
      "_view_count": null,
      "_view_module": "@jupyter-widgets/base",
      "_view_module_version": "1.2.0",
      "_view_name": "StyleView",
      "bar_color": null,
      "description_width": "initial"
     }
    },
    "434a8e5bdd124dda98c34012c068a700": {
     "model_module": "@jupyter-widgets/controls",
     "model_name": "HTMLModel",
     "state": {
      "_dom_classes": [],
      "_model_module": "@jupyter-widgets/controls",
      "_model_module_version": "1.5.0",
      "_model_name": "HTMLModel",
      "_view_count": null,
      "_view_module": "@jupyter-widgets/controls",
      "_view_module_version": "1.5.0",
      "_view_name": "HTMLView",
      "description": "",
      "description_tooltip": null,
      "layout": "IPY_MODEL_ba201db99e334b6f83d4142d6f5013f0",
      "placeholder": "​",
      "style": "IPY_MODEL_13be61f4f4c345c882da066822fb3ddd",
      "value": " 32768/? [00:01&lt;00:00, 30061.58it/s]"
     }
    },
    "465a0e82fb8b42019c904733c9b7a0b0": {
     "model_module": "@jupyter-widgets/base",
     "model_name": "LayoutModel",
     "state": {
      "_model_module": "@jupyter-widgets/base",
      "_model_module_version": "1.2.0",
      "_model_name": "LayoutModel",
      "_view_count": null,
      "_view_module": "@jupyter-widgets/base",
      "_view_module_version": "1.2.0",
      "_view_name": "LayoutView",
      "align_content": null,
      "align_items": null,
      "align_self": null,
      "border": null,
      "bottom": null,
      "display": null,
      "flex": null,
      "flex_flow": null,
      "grid_area": null,
      "grid_auto_columns": null,
      "grid_auto_flow": null,
      "grid_auto_rows": null,
      "grid_column": null,
      "grid_gap": null,
      "grid_row": null,
      "grid_template_areas": null,
      "grid_template_columns": null,
      "grid_template_rows": null,
      "height": null,
      "justify_content": null,
      "justify_items": null,
      "left": null,
      "margin": null,
      "max_height": null,
      "max_width": null,
      "min_height": null,
      "min_width": null,
      "object_fit": null,
      "object_position": null,
      "order": null,
      "overflow": null,
      "overflow_x": null,
      "overflow_y": null,
      "padding": null,
      "right": null,
      "top": null,
      "visibility": null,
      "width": null
     }
    },
    "478499cd2a3749ce8dbd5a92d0fb5b90": {
     "model_module": "@jupyter-widgets/base",
     "model_name": "LayoutModel",
     "state": {
      "_model_module": "@jupyter-widgets/base",
      "_model_module_version": "1.2.0",
      "_model_name": "LayoutModel",
      "_view_count": null,
      "_view_module": "@jupyter-widgets/base",
      "_view_module_version": "1.2.0",
      "_view_name": "LayoutView",
      "align_content": null,
      "align_items": null,
      "align_self": null,
      "border": null,
      "bottom": null,
      "display": null,
      "flex": null,
      "flex_flow": null,
      "grid_area": null,
      "grid_auto_columns": null,
      "grid_auto_flow": null,
      "grid_auto_rows": null,
      "grid_column": null,
      "grid_gap": null,
      "grid_row": null,
      "grid_template_areas": null,
      "grid_template_columns": null,
      "grid_template_rows": null,
      "height": null,
      "justify_content": null,
      "justify_items": null,
      "left": null,
      "margin": null,
      "max_height": null,
      "max_width": null,
      "min_height": null,
      "min_width": null,
      "object_fit": null,
      "object_position": null,
      "order": null,
      "overflow": null,
      "overflow_x": null,
      "overflow_y": null,
      "padding": null,
      "right": null,
      "top": null,
      "visibility": null,
      "width": null
     }
    },
    "5848878e5d954ee1aab5a909cb38339e": {
     "model_module": "@jupyter-widgets/base",
     "model_name": "LayoutModel",
     "state": {
      "_model_module": "@jupyter-widgets/base",
      "_model_module_version": "1.2.0",
      "_model_name": "LayoutModel",
      "_view_count": null,
      "_view_module": "@jupyter-widgets/base",
      "_view_module_version": "1.2.0",
      "_view_name": "LayoutView",
      "align_content": null,
      "align_items": null,
      "align_self": null,
      "border": null,
      "bottom": null,
      "display": null,
      "flex": null,
      "flex_flow": null,
      "grid_area": null,
      "grid_auto_columns": null,
      "grid_auto_flow": null,
      "grid_auto_rows": null,
      "grid_column": null,
      "grid_gap": null,
      "grid_row": null,
      "grid_template_areas": null,
      "grid_template_columns": null,
      "grid_template_rows": null,
      "height": null,
      "justify_content": null,
      "justify_items": null,
      "left": null,
      "margin": null,
      "max_height": null,
      "max_width": null,
      "min_height": null,
      "min_width": null,
      "object_fit": null,
      "object_position": null,
      "order": null,
      "overflow": null,
      "overflow_x": null,
      "overflow_y": null,
      "padding": null,
      "right": null,
      "top": null,
      "visibility": null,
      "width": null
     }
    },
    "5d97a1f694634e6b93d25b218adca4eb": {
     "model_module": "@jupyter-widgets/controls",
     "model_name": "DescriptionStyleModel",
     "state": {
      "_model_module": "@jupyter-widgets/controls",
      "_model_module_version": "1.5.0",
      "_model_name": "DescriptionStyleModel",
      "_view_count": null,
      "_view_module": "@jupyter-widgets/base",
      "_view_module_version": "1.2.0",
      "_view_name": "StyleView",
      "description_width": ""
     }
    },
    "69c5edf87de34522aec66d784736fc7c": {
     "model_module": "@jupyter-widgets/base",
     "model_name": "LayoutModel",
     "state": {
      "_model_module": "@jupyter-widgets/base",
      "_model_module_version": "1.2.0",
      "_model_name": "LayoutModel",
      "_view_count": null,
      "_view_module": "@jupyter-widgets/base",
      "_view_module_version": "1.2.0",
      "_view_name": "LayoutView",
      "align_content": null,
      "align_items": null,
      "align_self": null,
      "border": null,
      "bottom": null,
      "display": null,
      "flex": null,
      "flex_flow": null,
      "grid_area": null,
      "grid_auto_columns": null,
      "grid_auto_flow": null,
      "grid_auto_rows": null,
      "grid_column": null,
      "grid_gap": null,
      "grid_row": null,
      "grid_template_areas": null,
      "grid_template_columns": null,
      "grid_template_rows": null,
      "height": null,
      "justify_content": null,
      "justify_items": null,
      "left": null,
      "margin": null,
      "max_height": null,
      "max_width": null,
      "min_height": null,
      "min_width": null,
      "object_fit": null,
      "object_position": null,
      "order": null,
      "overflow": null,
      "overflow_x": null,
      "overflow_y": null,
      "padding": null,
      "right": null,
      "top": null,
      "visibility": null,
      "width": null
     }
    },
    "881a965610464c6ab5063f13bdf3d0ce": {
     "model_module": "@jupyter-widgets/base",
     "model_name": "LayoutModel",
     "state": {
      "_model_module": "@jupyter-widgets/base",
      "_model_module_version": "1.2.0",
      "_model_name": "LayoutModel",
      "_view_count": null,
      "_view_module": "@jupyter-widgets/base",
      "_view_module_version": "1.2.0",
      "_view_name": "LayoutView",
      "align_content": null,
      "align_items": null,
      "align_self": null,
      "border": null,
      "bottom": null,
      "display": null,
      "flex": null,
      "flex_flow": null,
      "grid_area": null,
      "grid_auto_columns": null,
      "grid_auto_flow": null,
      "grid_auto_rows": null,
      "grid_column": null,
      "grid_gap": null,
      "grid_row": null,
      "grid_template_areas": null,
      "grid_template_columns": null,
      "grid_template_rows": null,
      "height": null,
      "justify_content": null,
      "justify_items": null,
      "left": null,
      "margin": null,
      "max_height": null,
      "max_width": null,
      "min_height": null,
      "min_width": null,
      "object_fit": null,
      "object_position": null,
      "order": null,
      "overflow": null,
      "overflow_x": null,
      "overflow_y": null,
      "padding": null,
      "right": null,
      "top": null,
      "visibility": null,
      "width": null
     }
    },
    "8f8339c3c5814c76b4d1ab059cac627b": {
     "model_module": "@jupyter-widgets/base",
     "model_name": "LayoutModel",
     "state": {
      "_model_module": "@jupyter-widgets/base",
      "_model_module_version": "1.2.0",
      "_model_name": "LayoutModel",
      "_view_count": null,
      "_view_module": "@jupyter-widgets/base",
      "_view_module_version": "1.2.0",
      "_view_name": "LayoutView",
      "align_content": null,
      "align_items": null,
      "align_self": null,
      "border": null,
      "bottom": null,
      "display": null,
      "flex": null,
      "flex_flow": null,
      "grid_area": null,
      "grid_auto_columns": null,
      "grid_auto_flow": null,
      "grid_auto_rows": null,
      "grid_column": null,
      "grid_gap": null,
      "grid_row": null,
      "grid_template_areas": null,
      "grid_template_columns": null,
      "grid_template_rows": null,
      "height": null,
      "justify_content": null,
      "justify_items": null,
      "left": null,
      "margin": null,
      "max_height": null,
      "max_width": null,
      "min_height": null,
      "min_width": null,
      "object_fit": null,
      "object_position": null,
      "order": null,
      "overflow": null,
      "overflow_x": null,
      "overflow_y": null,
      "padding": null,
      "right": null,
      "top": null,
      "visibility": null,
      "width": null
     }
    },
    "9f70146e099149d69de87f8c7a2dda40": {
     "model_module": "@jupyter-widgets/controls",
     "model_name": "FloatProgressModel",
     "state": {
      "_dom_classes": [],
      "_model_module": "@jupyter-widgets/controls",
      "_model_module_version": "1.5.0",
      "_model_name": "FloatProgressModel",
      "_view_count": null,
      "_view_module": "@jupyter-widgets/controls",
      "_view_module_version": "1.5.0",
      "_view_name": "ProgressView",
      "bar_style": "success",
      "description": "",
      "description_tooltip": null,
      "layout": "IPY_MODEL_1647806cb78547b29aa8fbdec3513804",
      "max": 1,
      "min": 0,
      "orientation": "horizontal",
      "style": "IPY_MODEL_e3f3031be4e942309c26958ec8b5cad9",
      "value": 1
     }
    },
    "ab47b9b213ac465684f1628fc8b86619": {
     "model_module": "@jupyter-widgets/controls",
     "model_name": "DescriptionStyleModel",
     "state": {
      "_model_module": "@jupyter-widgets/controls",
      "_model_module_version": "1.5.0",
      "_model_name": "DescriptionStyleModel",
      "_view_count": null,
      "_view_module": "@jupyter-widgets/base",
      "_view_module_version": "1.2.0",
      "_view_name": "StyleView",
      "description_width": ""
     }
    },
    "b03dec1c268442c1b1d59d4fa424c7a5": {
     "model_module": "@jupyter-widgets/base",
     "model_name": "LayoutModel",
     "state": {
      "_model_module": "@jupyter-widgets/base",
      "_model_module_version": "1.2.0",
      "_model_name": "LayoutModel",
      "_view_count": null,
      "_view_module": "@jupyter-widgets/base",
      "_view_module_version": "1.2.0",
      "_view_name": "LayoutView",
      "align_content": null,
      "align_items": null,
      "align_self": null,
      "border": null,
      "bottom": null,
      "display": null,
      "flex": null,
      "flex_flow": null,
      "grid_area": null,
      "grid_auto_columns": null,
      "grid_auto_flow": null,
      "grid_auto_rows": null,
      "grid_column": null,
      "grid_gap": null,
      "grid_row": null,
      "grid_template_areas": null,
      "grid_template_columns": null,
      "grid_template_rows": null,
      "height": null,
      "justify_content": null,
      "justify_items": null,
      "left": null,
      "margin": null,
      "max_height": null,
      "max_width": null,
      "min_height": null,
      "min_width": null,
      "object_fit": null,
      "object_position": null,
      "order": null,
      "overflow": null,
      "overflow_x": null,
      "overflow_y": null,
      "padding": null,
      "right": null,
      "top": null,
      "visibility": null,
      "width": null
     }
    },
    "b610a965587744b4b5430cb3b09c8370": {
     "model_module": "@jupyter-widgets/controls",
     "model_name": "HBoxModel",
     "state": {
      "_dom_classes": [],
      "_model_module": "@jupyter-widgets/controls",
      "_model_module_version": "1.5.0",
      "_model_name": "HBoxModel",
      "_view_count": null,
      "_view_module": "@jupyter-widgets/controls",
      "_view_module_version": "1.5.0",
      "_view_name": "HBoxView",
      "box_style": "",
      "children": [
       "IPY_MODEL_9f70146e099149d69de87f8c7a2dda40",
       "IPY_MODEL_434a8e5bdd124dda98c34012c068a700"
      ],
      "layout": "IPY_MODEL_bf1acacbb6784f7ea212587aa8790403"
     }
    },
    "ba201db99e334b6f83d4142d6f5013f0": {
     "model_module": "@jupyter-widgets/base",
     "model_name": "LayoutModel",
     "state": {
      "_model_module": "@jupyter-widgets/base",
      "_model_module_version": "1.2.0",
      "_model_name": "LayoutModel",
      "_view_count": null,
      "_view_module": "@jupyter-widgets/base",
      "_view_module_version": "1.2.0",
      "_view_name": "LayoutView",
      "align_content": null,
      "align_items": null,
      "align_self": null,
      "border": null,
      "bottom": null,
      "display": null,
      "flex": null,
      "flex_flow": null,
      "grid_area": null,
      "grid_auto_columns": null,
      "grid_auto_flow": null,
      "grid_auto_rows": null,
      "grid_column": null,
      "grid_gap": null,
      "grid_row": null,
      "grid_template_areas": null,
      "grid_template_columns": null,
      "grid_template_rows": null,
      "height": null,
      "justify_content": null,
      "justify_items": null,
      "left": null,
      "margin": null,
      "max_height": null,
      "max_width": null,
      "min_height": null,
      "min_width": null,
      "object_fit": null,
      "object_position": null,
      "order": null,
      "overflow": null,
      "overflow_x": null,
      "overflow_y": null,
      "padding": null,
      "right": null,
      "top": null,
      "visibility": null,
      "width": null
     }
    },
    "bc7a4db9d05a4d01b1b6d597ade389e6": {
     "model_module": "@jupyter-widgets/controls",
     "model_name": "ProgressStyleModel",
     "state": {
      "_model_module": "@jupyter-widgets/controls",
      "_model_module_version": "1.5.0",
      "_model_name": "ProgressStyleModel",
      "_view_count": null,
      "_view_module": "@jupyter-widgets/base",
      "_view_module_version": "1.2.0",
      "_view_name": "StyleView",
      "bar_color": null,
      "description_width": "initial"
     }
    },
    "bf1acacbb6784f7ea212587aa8790403": {
     "model_module": "@jupyter-widgets/base",
     "model_name": "LayoutModel",
     "state": {
      "_model_module": "@jupyter-widgets/base",
      "_model_module_version": "1.2.0",
      "_model_name": "LayoutModel",
      "_view_count": null,
      "_view_module": "@jupyter-widgets/base",
      "_view_module_version": "1.2.0",
      "_view_name": "LayoutView",
      "align_content": null,
      "align_items": null,
      "align_self": null,
      "border": null,
      "bottom": null,
      "display": null,
      "flex": null,
      "flex_flow": null,
      "grid_area": null,
      "grid_auto_columns": null,
      "grid_auto_flow": null,
      "grid_auto_rows": null,
      "grid_column": null,
      "grid_gap": null,
      "grid_row": null,
      "grid_template_areas": null,
      "grid_template_columns": null,
      "grid_template_rows": null,
      "height": null,
      "justify_content": null,
      "justify_items": null,
      "left": null,
      "margin": null,
      "max_height": null,
      "max_width": null,
      "min_height": null,
      "min_width": null,
      "object_fit": null,
      "object_position": null,
      "order": null,
      "overflow": null,
      "overflow_x": null,
      "overflow_y": null,
      "padding": null,
      "right": null,
      "top": null,
      "visibility": null,
      "width": null
     }
    },
    "cbaddf4d86fe443aac9050cf29ebc40b": {
     "model_module": "@jupyter-widgets/controls",
     "model_name": "FloatProgressModel",
     "state": {
      "_dom_classes": [],
      "_model_module": "@jupyter-widgets/controls",
      "_model_module_version": "1.5.0",
      "_model_name": "FloatProgressModel",
      "_view_count": null,
      "_view_module": "@jupyter-widgets/controls",
      "_view_module_version": "1.5.0",
      "_view_name": "ProgressView",
      "bar_style": "info",
      "description": "  0%",
      "description_tooltip": null,
      "layout": "IPY_MODEL_b03dec1c268442c1b1d59d4fa424c7a5",
      "max": 1,
      "min": 0,
      "orientation": "horizontal",
      "style": "IPY_MODEL_df777bacd0af4074ae8a3fd878522ad2",
      "value": 0
     }
    },
    "d0b83e1fe030420098412766885af06a": {
     "model_module": "@jupyter-widgets/controls",
     "model_name": "HTMLModel",
     "state": {
      "_dom_classes": [],
      "_model_module": "@jupyter-widgets/controls",
      "_model_module_version": "1.5.0",
      "_model_name": "HTMLModel",
      "_view_count": null,
      "_view_module": "@jupyter-widgets/controls",
      "_view_module_version": "1.5.0",
      "_view_name": "HTMLView",
      "description": "",
      "description_tooltip": null,
      "layout": "IPY_MODEL_478499cd2a3749ce8dbd5a92d0fb5b90",
      "placeholder": "​",
      "style": "IPY_MODEL_5d97a1f694634e6b93d25b218adca4eb",
      "value": " 9920512/? [00:20&lt;00:00, 1059164.25it/s]"
     }
    },
    "d4b598e4b92440b2a4766d44c15eca23": {
     "model_module": "@jupyter-widgets/base",
     "model_name": "LayoutModel",
     "state": {
      "_model_module": "@jupyter-widgets/base",
      "_model_module_version": "1.2.0",
      "_model_name": "LayoutModel",
      "_view_count": null,
      "_view_module": "@jupyter-widgets/base",
      "_view_module_version": "1.2.0",
      "_view_name": "LayoutView",
      "align_content": null,
      "align_items": null,
      "align_self": null,
      "border": null,
      "bottom": null,
      "display": null,
      "flex": null,
      "flex_flow": null,
      "grid_area": null,
      "grid_auto_columns": null,
      "grid_auto_flow": null,
      "grid_auto_rows": null,
      "grid_column": null,
      "grid_gap": null,
      "grid_row": null,
      "grid_template_areas": null,
      "grid_template_columns": null,
      "grid_template_rows": null,
      "height": null,
      "justify_content": null,
      "justify_items": null,
      "left": null,
      "margin": null,
      "max_height": null,
      "max_width": null,
      "min_height": null,
      "min_width": null,
      "object_fit": null,
      "object_position": null,
      "order": null,
      "overflow": null,
      "overflow_x": null,
      "overflow_y": null,
      "padding": null,
      "right": null,
      "top": null,
      "visibility": null,
      "width": null
     }
    },
    "df777bacd0af4074ae8a3fd878522ad2": {
     "model_module": "@jupyter-widgets/controls",
     "model_name": "ProgressStyleModel",
     "state": {
      "_model_module": "@jupyter-widgets/controls",
      "_model_module_version": "1.5.0",
      "_model_name": "ProgressStyleModel",
      "_view_count": null,
      "_view_module": "@jupyter-widgets/base",
      "_view_module_version": "1.2.0",
      "_view_name": "StyleView",
      "bar_color": null,
      "description_width": "initial"
     }
    },
    "e2c39788d2a94386a7d36aec312ec0c1": {
     "model_module": "@jupyter-widgets/controls",
     "model_name": "HTMLModel",
     "state": {
      "_dom_classes": [],
      "_model_module": "@jupyter-widgets/controls",
      "_model_module_version": "1.5.0",
      "_model_name": "HTMLModel",
      "_view_count": null,
      "_view_module": "@jupyter-widgets/controls",
      "_view_module_version": "1.5.0",
      "_view_name": "HTMLView",
      "description": "",
      "description_tooltip": null,
      "layout": "IPY_MODEL_d4b598e4b92440b2a4766d44c15eca23",
      "placeholder": "​",
      "style": "IPY_MODEL_05d5dfbbaf9d482eac403c90df68c93c",
      "value": " 0/4542 [00:00&lt;?, ?it/s]"
     }
    },
    "e3f3031be4e942309c26958ec8b5cad9": {
     "model_module": "@jupyter-widgets/controls",
     "model_name": "ProgressStyleModel",
     "state": {
      "_model_module": "@jupyter-widgets/controls",
      "_model_module_version": "1.5.0",
      "_model_name": "ProgressStyleModel",
      "_view_count": null,
      "_view_module": "@jupyter-widgets/base",
      "_view_module_version": "1.2.0",
      "_view_name": "StyleView",
      "bar_color": null,
      "description_width": "initial"
     }
    },
    "e5692ff7df0b4dee80331af25bc73d75": {
     "model_module": "@jupyter-widgets/controls",
     "model_name": "HBoxModel",
     "state": {
      "_dom_classes": [],
      "_model_module": "@jupyter-widgets/controls",
      "_model_module_version": "1.5.0",
      "_model_name": "HBoxModel",
      "_view_count": null,
      "_view_module": "@jupyter-widgets/controls",
      "_view_module_version": "1.5.0",
      "_view_name": "HBoxView",
      "box_style": "",
      "children": [
       "IPY_MODEL_0ba6c1d3017b44d4a17c8c3d6e032e4c",
       "IPY_MODEL_085089c8e34c4ff796ddfdbfedb56245"
      ],
      "layout": "IPY_MODEL_69c5edf87de34522aec66d784736fc7c"
     }
    }
   }
  }
 },
 "nbformat": 4,
 "nbformat_minor": 1
}
